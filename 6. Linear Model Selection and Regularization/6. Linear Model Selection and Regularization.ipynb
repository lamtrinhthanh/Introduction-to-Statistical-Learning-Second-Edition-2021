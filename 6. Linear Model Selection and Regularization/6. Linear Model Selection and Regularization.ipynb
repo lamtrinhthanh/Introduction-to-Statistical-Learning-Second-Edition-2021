{
 "cells": [
  {
   "cell_type": "code",
   "execution_count": 1,
   "metadata": {},
   "outputs": [],
   "source": [
    "from sklearn.linear_model import LinearRegression, Ridge, RidgeCV, Lasso, LassoCV\n",
    "from sklearn.preprocessing import PolynomialFeatures\n",
    "from sklearn.model_selection import cross_val_score, KFold, StratifiedKFold\n",
    "import pandas as pd\n",
    "import matplotlib.pyplot as plt\n",
    "import itertools\n",
    "from sklearn.metrics import r2_score, mean_squared_error"
   ]
  },
  {
   "cell_type": "markdown",
   "metadata": {},
   "source": [
    "<p style=\"font-size: 20px\"> 8. In this exercise, we will generate simulated data, and will then use\n",
    "this data to perform best subset selection. </p>"
   ]
  },
  {
   "cell_type": "markdown",
   "metadata": {},
   "source": [
    "(a) Use the rnorm() function to generate a predictor X of length\n",
    "n = 100, as well as a noise vector ϵ of length n = 100."
   ]
  },
  {
   "cell_type": "code",
   "execution_count": 151,
   "metadata": {},
   "outputs": [],
   "source": [
    "X = np.random.randn(100)\n",
    "error = np.random.randn(100)"
   ]
  },
  {
   "cell_type": "markdown",
   "metadata": {},
   "source": [
    "(b) Generate a response vector Y of length n = 100 according to\n",
    "the model\n",
    "$$Y = \\beta_{0} + \\beta_{1}X + \\beta_{2}X^{2} + \\beta_{3}X^{3}$$\n",
    "where β0, β1, β2, and β3 are constants of your choice."
   ]
  },
  {
   "cell_type": "code",
   "execution_count": 152,
   "metadata": {},
   "outputs": [],
   "source": [
    "poly = PolynomialFeatures(degree=3)\n",
    "X_poly = poly.fit_transform(X.reshape(-1, 1))"
   ]
  },
  {
   "cell_type": "code",
   "execution_count": 153,
   "metadata": {},
   "outputs": [],
   "source": [
    "coefficients = np.random.rand(4)"
   ]
  },
  {
   "cell_type": "code",
   "execution_count": 154,
   "metadata": {},
   "outputs": [],
   "source": [
    "y = X_poly @ coefficients + error"
   ]
  },
  {
   "cell_type": "code",
   "execution_count": 155,
   "metadata": {},
   "outputs": [
    {
     "data": {
      "text/plain": [
       "LinearRegression(copy_X=True, fit_intercept=True, n_jobs=None, normalize=False)"
      ]
     },
     "execution_count": 155,
     "metadata": {},
     "output_type": "execute_result"
    }
   ],
   "source": [
    "linreg = LinearRegression()\n",
    "linreg.fit(X_poly, y)"
   ]
  },
  {
   "cell_type": "markdown",
   "metadata": {},
   "source": [
    "(c) Use the regsubsets() function to perform best subset selection\n",
    "in order to choose the best model containing the predictors\n",
    "X,X2, . . . ,X10. What is the best model obtained according to\n",
    "Cp, BIC, and adjusted R2? Show some plots to provide evidence\n",
    "for your answer, and report the coefficients of the best model obtained.\n",
    "Note you will need to use the data.frame() function to\n",
    "create a single data set containing both X and Y ."
   ]
  },
  {
   "cell_type": "code",
   "execution_count": 156,
   "metadata": {},
   "outputs": [],
   "source": [
    "poly = PolynomialFeatures(degree=10, include_bias=False)\n",
    "X_poly_10 = poly.fit_transform(X.reshape(-1, 1))"
   ]
  },
  {
   "cell_type": "code",
   "execution_count": 159,
   "metadata": {},
   "outputs": [
    {
     "data": {
      "text/html": [
       "<div>\n",
       "<style scoped>\n",
       "    .dataframe tbody tr th:only-of-type {\n",
       "        vertical-align: middle;\n",
       "    }\n",
       "\n",
       "    .dataframe tbody tr th {\n",
       "        vertical-align: top;\n",
       "    }\n",
       "\n",
       "    .dataframe thead th {\n",
       "        text-align: right;\n",
       "    }\n",
       "</style>\n",
       "<table border=\"1\" class=\"dataframe\">\n",
       "  <thead>\n",
       "    <tr style=\"text-align: right;\">\n",
       "      <th></th>\n",
       "      <th>X1</th>\n",
       "      <th>X2</th>\n",
       "      <th>X3</th>\n",
       "      <th>X4</th>\n",
       "      <th>X5</th>\n",
       "      <th>X6</th>\n",
       "      <th>X7</th>\n",
       "      <th>X8</th>\n",
       "      <th>X9</th>\n",
       "      <th>X10</th>\n",
       "      <th>Y</th>\n",
       "    </tr>\n",
       "  </thead>\n",
       "  <tbody>\n",
       "    <tr>\n",
       "      <th>0</th>\n",
       "      <td>-0.672383</td>\n",
       "      <td>0.452100</td>\n",
       "      <td>-0.303984</td>\n",
       "      <td>0.204394</td>\n",
       "      <td>-0.137431</td>\n",
       "      <td>0.092406</td>\n",
       "      <td>-0.062133</td>\n",
       "      <td>0.041777</td>\n",
       "      <td>-0.028090</td>\n",
       "      <td>0.018887</td>\n",
       "      <td>0.603078</td>\n",
       "    </tr>\n",
       "    <tr>\n",
       "      <th>1</th>\n",
       "      <td>1.548016</td>\n",
       "      <td>2.396353</td>\n",
       "      <td>3.709593</td>\n",
       "      <td>5.742509</td>\n",
       "      <td>8.889496</td>\n",
       "      <td>13.761081</td>\n",
       "      <td>21.302372</td>\n",
       "      <td>32.976411</td>\n",
       "      <td>51.048010</td>\n",
       "      <td>79.023132</td>\n",
       "      <td>5.179037</td>\n",
       "    </tr>\n",
       "    <tr>\n",
       "      <th>2</th>\n",
       "      <td>-1.110409</td>\n",
       "      <td>1.233008</td>\n",
       "      <td>-1.369143</td>\n",
       "      <td>1.520308</td>\n",
       "      <td>-1.688164</td>\n",
       "      <td>1.874552</td>\n",
       "      <td>-2.081519</td>\n",
       "      <td>2.311337</td>\n",
       "      <td>-2.566529</td>\n",
       "      <td>2.849896</td>\n",
       "      <td>0.488117</td>\n",
       "    </tr>\n",
       "    <tr>\n",
       "      <th>3</th>\n",
       "      <td>-0.824538</td>\n",
       "      <td>0.679863</td>\n",
       "      <td>-0.560573</td>\n",
       "      <td>0.462214</td>\n",
       "      <td>-0.381113</td>\n",
       "      <td>0.314242</td>\n",
       "      <td>-0.259105</td>\n",
       "      <td>0.213642</td>\n",
       "      <td>-0.176156</td>\n",
       "      <td>0.145247</td>\n",
       "      <td>-0.707139</td>\n",
       "    </tr>\n",
       "    <tr>\n",
       "      <th>4</th>\n",
       "      <td>1.835461</td>\n",
       "      <td>3.368915</td>\n",
       "      <td>6.183511</td>\n",
       "      <td>11.349590</td>\n",
       "      <td>20.831724</td>\n",
       "      <td>38.235807</td>\n",
       "      <td>70.180314</td>\n",
       "      <td>128.813194</td>\n",
       "      <td>236.431531</td>\n",
       "      <td>433.960737</td>\n",
       "      <td>7.314575</td>\n",
       "    </tr>\n",
       "    <tr>\n",
       "      <th>...</th>\n",
       "      <td>...</td>\n",
       "      <td>...</td>\n",
       "      <td>...</td>\n",
       "      <td>...</td>\n",
       "      <td>...</td>\n",
       "      <td>...</td>\n",
       "      <td>...</td>\n",
       "      <td>...</td>\n",
       "      <td>...</td>\n",
       "      <td>...</td>\n",
       "      <td>...</td>\n",
       "    </tr>\n",
       "    <tr>\n",
       "      <th>95</th>\n",
       "      <td>0.948777</td>\n",
       "      <td>0.900177</td>\n",
       "      <td>0.854067</td>\n",
       "      <td>0.810319</td>\n",
       "      <td>0.768812</td>\n",
       "      <td>0.729431</td>\n",
       "      <td>0.692067</td>\n",
       "      <td>0.656617</td>\n",
       "      <td>0.622983</td>\n",
       "      <td>0.591072</td>\n",
       "      <td>0.725362</td>\n",
       "    </tr>\n",
       "    <tr>\n",
       "      <th>96</th>\n",
       "      <td>-0.453304</td>\n",
       "      <td>0.205485</td>\n",
       "      <td>-0.093147</td>\n",
       "      <td>0.042224</td>\n",
       "      <td>-0.019140</td>\n",
       "      <td>0.008676</td>\n",
       "      <td>-0.003933</td>\n",
       "      <td>0.001783</td>\n",
       "      <td>-0.000808</td>\n",
       "      <td>0.000366</td>\n",
       "      <td>1.182504</td>\n",
       "    </tr>\n",
       "    <tr>\n",
       "      <th>97</th>\n",
       "      <td>0.276735</td>\n",
       "      <td>0.076582</td>\n",
       "      <td>0.021193</td>\n",
       "      <td>0.005865</td>\n",
       "      <td>0.001623</td>\n",
       "      <td>0.000449</td>\n",
       "      <td>0.000124</td>\n",
       "      <td>0.000034</td>\n",
       "      <td>0.000010</td>\n",
       "      <td>0.000003</td>\n",
       "      <td>-0.572658</td>\n",
       "    </tr>\n",
       "    <tr>\n",
       "      <th>98</th>\n",
       "      <td>-0.572097</td>\n",
       "      <td>0.327295</td>\n",
       "      <td>-0.187245</td>\n",
       "      <td>0.107122</td>\n",
       "      <td>-0.061284</td>\n",
       "      <td>0.035061</td>\n",
       "      <td>-0.020058</td>\n",
       "      <td>0.011475</td>\n",
       "      <td>-0.006565</td>\n",
       "      <td>0.003756</td>\n",
       "      <td>2.125837</td>\n",
       "    </tr>\n",
       "    <tr>\n",
       "      <th>99</th>\n",
       "      <td>-0.349798</td>\n",
       "      <td>0.122359</td>\n",
       "      <td>-0.042801</td>\n",
       "      <td>0.014972</td>\n",
       "      <td>-0.005237</td>\n",
       "      <td>0.001832</td>\n",
       "      <td>-0.000641</td>\n",
       "      <td>0.000224</td>\n",
       "      <td>-0.000078</td>\n",
       "      <td>0.000027</td>\n",
       "      <td>0.725808</td>\n",
       "    </tr>\n",
       "  </tbody>\n",
       "</table>\n",
       "<p>100 rows × 11 columns</p>\n",
       "</div>"
      ],
      "text/plain": [
       "          X1        X2        X3         X4         X5         X6         X7  \\\n",
       "0  -0.672383  0.452100 -0.303984   0.204394  -0.137431   0.092406  -0.062133   \n",
       "1   1.548016  2.396353  3.709593   5.742509   8.889496  13.761081  21.302372   \n",
       "2  -1.110409  1.233008 -1.369143   1.520308  -1.688164   1.874552  -2.081519   \n",
       "3  -0.824538  0.679863 -0.560573   0.462214  -0.381113   0.314242  -0.259105   \n",
       "4   1.835461  3.368915  6.183511  11.349590  20.831724  38.235807  70.180314   \n",
       "..       ...       ...       ...        ...        ...        ...        ...   \n",
       "95  0.948777  0.900177  0.854067   0.810319   0.768812   0.729431   0.692067   \n",
       "96 -0.453304  0.205485 -0.093147   0.042224  -0.019140   0.008676  -0.003933   \n",
       "97  0.276735  0.076582  0.021193   0.005865   0.001623   0.000449   0.000124   \n",
       "98 -0.572097  0.327295 -0.187245   0.107122  -0.061284   0.035061  -0.020058   \n",
       "99 -0.349798  0.122359 -0.042801   0.014972  -0.005237   0.001832  -0.000641   \n",
       "\n",
       "            X8          X9         X10         Y  \n",
       "0     0.041777   -0.028090    0.018887  0.603078  \n",
       "1    32.976411   51.048010   79.023132  5.179037  \n",
       "2     2.311337   -2.566529    2.849896  0.488117  \n",
       "3     0.213642   -0.176156    0.145247 -0.707139  \n",
       "4   128.813194  236.431531  433.960737  7.314575  \n",
       "..         ...         ...         ...       ...  \n",
       "95    0.656617    0.622983    0.591072  0.725362  \n",
       "96    0.001783   -0.000808    0.000366  1.182504  \n",
       "97    0.000034    0.000010    0.000003 -0.572658  \n",
       "98    0.011475   -0.006565    0.003756  2.125837  \n",
       "99    0.000224   -0.000078    0.000027  0.725808  \n",
       "\n",
       "[100 rows x 11 columns]"
      ]
     },
     "metadata": {},
     "output_type": "display_data"
    }
   ],
   "source": [
    "df = pd.DataFrame(np.c_[X_poly_10, y], columns=['X'+str(i) for i in range(1, 11)] + ['Y'])\n",
    "display(df)\n",
    "X = df.iloc[:, :-1]\n",
    "y = df.iloc[:, -1]"
   ]
  },
  {
   "cell_type": "code",
   "execution_count": 160,
   "metadata": {},
   "outputs": [
    {
     "data": {
      "text/html": [
       "<div>\n",
       "<style scoped>\n",
       "    .dataframe tbody tr th:only-of-type {\n",
       "        vertical-align: middle;\n",
       "    }\n",
       "\n",
       "    .dataframe tbody tr th {\n",
       "        vertical-align: top;\n",
       "    }\n",
       "\n",
       "    .dataframe thead th {\n",
       "        text-align: right;\n",
       "    }\n",
       "</style>\n",
       "<table border=\"1\" class=\"dataframe\">\n",
       "  <thead>\n",
       "    <tr style=\"text-align: right;\">\n",
       "      <th></th>\n",
       "      <th>1</th>\n",
       "      <th>3</th>\n",
       "      <th>2</th>\n",
       "      <th>5</th>\n",
       "    </tr>\n",
       "  </thead>\n",
       "  <tbody>\n",
       "    <tr>\n",
       "      <th>0</th>\n",
       "      <td>2.0</td>\n",
       "      <td>4.0</td>\n",
       "      <td>NaN</td>\n",
       "      <td>NaN</td>\n",
       "    </tr>\n",
       "    <tr>\n",
       "      <th>1</th>\n",
       "      <td>NaN</td>\n",
       "      <td>NaN</td>\n",
       "      <td>4.0</td>\n",
       "      <td>7.0</td>\n",
       "    </tr>\n",
       "  </tbody>\n",
       "</table>\n",
       "</div>"
      ],
      "text/plain": [
       "     1    3    2    5\n",
       "0  2.0  4.0  NaN  NaN\n",
       "1  NaN  NaN  4.0  7.0"
      ]
     },
     "execution_count": 160,
     "metadata": {},
     "output_type": "execute_result"
    }
   ],
   "source": [
    "pd.DataFrame([{1:2, 3:4}, {2:4, 5:7}])"
   ]
  },
  {
   "cell_type": "code",
   "execution_count": null,
   "metadata": {},
   "outputs": [],
   "source": []
  },
  {
   "cell_type": "code",
   "execution_count": 161,
   "metadata": {},
   "outputs": [],
   "source": [
    "result_k={}\n",
    "results = []\n",
    "combo = list(itertools.combinations_with_replacement(X.columns, r=2))\n",
    "for features in combo:\n",
    "    result_k['k'] = len(features)\n",
    "    result_k[\"features\"] = features\n",
    "    results"
   ]
  },
  {
   "cell_type": "code",
   "execution_count": 194,
   "metadata": {},
   "outputs": [],
   "source": [
    "def calculate_aic(y_true, y_pred, n, num_params):\n",
    "\taic = n * np.log(mean_squared_error(y_true, y_pred)) + 2 * num_params\n",
    "\treturn aic\n",
    "def calculate_bic(y_true, y_pred, n, num_params):\n",
    "    rss = np.sum((y_pred - y) ** 2)\n",
    "    sigma2 = rss / n\n",
    "    return (1 / n) * (rss + np.log(n) * num_params * sigma2)\n",
    "def calculate_r2_adjusted(y_true, y_pred, n, p):\n",
    "    r2 = r2_score(y_true, y_pred)\n",
    "    return 1 - (1 - r2) * (n - 1) / (n - p - 1)"
   ]
  },
  {
   "cell_type": "code",
   "execution_count": 195,
   "metadata": {},
   "outputs": [],
   "source": [
    "def single_model(*features, X_df=X, y=y):\n",
    "    \n",
    "    X = X_df[list(features)].values\n",
    "    n = X.shape[0]\n",
    "    p = X.shape[1]\n",
    "    \n",
    "    linreg = LinearRegression()\n",
    "    linreg.fit(X, y)\n",
    "    y_pred = linreg.predict(X)\n",
    "    mse = mean_squared_error(y, y_pred)\n",
    "    r2 = linreg.score(X, y)\n",
    "    r2_adjusted = calculate_r2_adjusted(y, y_pred, n, p)\n",
    "    rss = np.sum((y_pred - y) ** 2)\n",
    "    aic = calculate_aic(y, y_pred, n, p)\n",
    "    bic = calculate_bic(y, y_pred, n, p)\n",
    "    \n",
    "    return {\"features\": features, \"r2\": r2, \"adjusted r2\": r2_adjusted, \"aic\": aic, \"bic\": bic}"
   ]
  },
  {
   "cell_type": "code",
   "execution_count": 196,
   "metadata": {},
   "outputs": [],
   "source": [
    "class GetBestModel():\n",
    "    def __init__(self, k, X_df=X, y=y, by='r2'):\n",
    "        combinations = itertools.combinations(X.columns, r=k)\n",
    "        self.results_ = []\n",
    "        for features in combinations:\n",
    "            result_ = single_model(*features)\n",
    "            self.results_.append(result_)\n",
    "        self.best_result_ = sorted(self.results_, key=lambda x: x[str(by)])[-1]\n",
    "        \n",
    "    "
   ]
  },
  {
   "cell_type": "code",
   "execution_count": 197,
   "metadata": {},
   "outputs": [
    {
     "data": {
      "text/html": [
       "<div>\n",
       "<style scoped>\n",
       "    .dataframe tbody tr th:only-of-type {\n",
       "        vertical-align: middle;\n",
       "    }\n",
       "\n",
       "    .dataframe tbody tr th {\n",
       "        vertical-align: top;\n",
       "    }\n",
       "\n",
       "    .dataframe thead th {\n",
       "        text-align: right;\n",
       "    }\n",
       "</style>\n",
       "<table border=\"1\" class=\"dataframe\">\n",
       "  <thead>\n",
       "    <tr style=\"text-align: right;\">\n",
       "      <th></th>\n",
       "      <th>X1</th>\n",
       "      <th>X2</th>\n",
       "      <th>X3</th>\n",
       "      <th>X4</th>\n",
       "      <th>X5</th>\n",
       "      <th>X6</th>\n",
       "      <th>X7</th>\n",
       "      <th>X8</th>\n",
       "      <th>X9</th>\n",
       "      <th>X10</th>\n",
       "    </tr>\n",
       "  </thead>\n",
       "  <tbody>\n",
       "    <tr>\n",
       "      <th>0</th>\n",
       "      <td>-0.672383</td>\n",
       "      <td>0.452100</td>\n",
       "      <td>-0.303984</td>\n",
       "      <td>0.204394</td>\n",
       "      <td>-0.137431</td>\n",
       "      <td>0.092406</td>\n",
       "      <td>-0.062133</td>\n",
       "      <td>0.041777</td>\n",
       "      <td>-0.028090</td>\n",
       "      <td>0.018887</td>\n",
       "    </tr>\n",
       "    <tr>\n",
       "      <th>1</th>\n",
       "      <td>1.548016</td>\n",
       "      <td>2.396353</td>\n",
       "      <td>3.709593</td>\n",
       "      <td>5.742509</td>\n",
       "      <td>8.889496</td>\n",
       "      <td>13.761081</td>\n",
       "      <td>21.302372</td>\n",
       "      <td>32.976411</td>\n",
       "      <td>51.048010</td>\n",
       "      <td>79.023132</td>\n",
       "    </tr>\n",
       "    <tr>\n",
       "      <th>2</th>\n",
       "      <td>-1.110409</td>\n",
       "      <td>1.233008</td>\n",
       "      <td>-1.369143</td>\n",
       "      <td>1.520308</td>\n",
       "      <td>-1.688164</td>\n",
       "      <td>1.874552</td>\n",
       "      <td>-2.081519</td>\n",
       "      <td>2.311337</td>\n",
       "      <td>-2.566529</td>\n",
       "      <td>2.849896</td>\n",
       "    </tr>\n",
       "    <tr>\n",
       "      <th>3</th>\n",
       "      <td>-0.824538</td>\n",
       "      <td>0.679863</td>\n",
       "      <td>-0.560573</td>\n",
       "      <td>0.462214</td>\n",
       "      <td>-0.381113</td>\n",
       "      <td>0.314242</td>\n",
       "      <td>-0.259105</td>\n",
       "      <td>0.213642</td>\n",
       "      <td>-0.176156</td>\n",
       "      <td>0.145247</td>\n",
       "    </tr>\n",
       "    <tr>\n",
       "      <th>4</th>\n",
       "      <td>1.835461</td>\n",
       "      <td>3.368915</td>\n",
       "      <td>6.183511</td>\n",
       "      <td>11.349590</td>\n",
       "      <td>20.831724</td>\n",
       "      <td>38.235807</td>\n",
       "      <td>70.180314</td>\n",
       "      <td>128.813194</td>\n",
       "      <td>236.431531</td>\n",
       "      <td>433.960737</td>\n",
       "    </tr>\n",
       "    <tr>\n",
       "      <th>...</th>\n",
       "      <td>...</td>\n",
       "      <td>...</td>\n",
       "      <td>...</td>\n",
       "      <td>...</td>\n",
       "      <td>...</td>\n",
       "      <td>...</td>\n",
       "      <td>...</td>\n",
       "      <td>...</td>\n",
       "      <td>...</td>\n",
       "      <td>...</td>\n",
       "    </tr>\n",
       "    <tr>\n",
       "      <th>95</th>\n",
       "      <td>0.948777</td>\n",
       "      <td>0.900177</td>\n",
       "      <td>0.854067</td>\n",
       "      <td>0.810319</td>\n",
       "      <td>0.768812</td>\n",
       "      <td>0.729431</td>\n",
       "      <td>0.692067</td>\n",
       "      <td>0.656617</td>\n",
       "      <td>0.622983</td>\n",
       "      <td>0.591072</td>\n",
       "    </tr>\n",
       "    <tr>\n",
       "      <th>96</th>\n",
       "      <td>-0.453304</td>\n",
       "      <td>0.205485</td>\n",
       "      <td>-0.093147</td>\n",
       "      <td>0.042224</td>\n",
       "      <td>-0.019140</td>\n",
       "      <td>0.008676</td>\n",
       "      <td>-0.003933</td>\n",
       "      <td>0.001783</td>\n",
       "      <td>-0.000808</td>\n",
       "      <td>0.000366</td>\n",
       "    </tr>\n",
       "    <tr>\n",
       "      <th>97</th>\n",
       "      <td>0.276735</td>\n",
       "      <td>0.076582</td>\n",
       "      <td>0.021193</td>\n",
       "      <td>0.005865</td>\n",
       "      <td>0.001623</td>\n",
       "      <td>0.000449</td>\n",
       "      <td>0.000124</td>\n",
       "      <td>0.000034</td>\n",
       "      <td>0.000010</td>\n",
       "      <td>0.000003</td>\n",
       "    </tr>\n",
       "    <tr>\n",
       "      <th>98</th>\n",
       "      <td>-0.572097</td>\n",
       "      <td>0.327295</td>\n",
       "      <td>-0.187245</td>\n",
       "      <td>0.107122</td>\n",
       "      <td>-0.061284</td>\n",
       "      <td>0.035061</td>\n",
       "      <td>-0.020058</td>\n",
       "      <td>0.011475</td>\n",
       "      <td>-0.006565</td>\n",
       "      <td>0.003756</td>\n",
       "    </tr>\n",
       "    <tr>\n",
       "      <th>99</th>\n",
       "      <td>-0.349798</td>\n",
       "      <td>0.122359</td>\n",
       "      <td>-0.042801</td>\n",
       "      <td>0.014972</td>\n",
       "      <td>-0.005237</td>\n",
       "      <td>0.001832</td>\n",
       "      <td>-0.000641</td>\n",
       "      <td>0.000224</td>\n",
       "      <td>-0.000078</td>\n",
       "      <td>0.000027</td>\n",
       "    </tr>\n",
       "  </tbody>\n",
       "</table>\n",
       "<p>100 rows × 10 columns</p>\n",
       "</div>"
      ],
      "text/plain": [
       "          X1        X2        X3         X4         X5         X6         X7  \\\n",
       "0  -0.672383  0.452100 -0.303984   0.204394  -0.137431   0.092406  -0.062133   \n",
       "1   1.548016  2.396353  3.709593   5.742509   8.889496  13.761081  21.302372   \n",
       "2  -1.110409  1.233008 -1.369143   1.520308  -1.688164   1.874552  -2.081519   \n",
       "3  -0.824538  0.679863 -0.560573   0.462214  -0.381113   0.314242  -0.259105   \n",
       "4   1.835461  3.368915  6.183511  11.349590  20.831724  38.235807  70.180314   \n",
       "..       ...       ...       ...        ...        ...        ...        ...   \n",
       "95  0.948777  0.900177  0.854067   0.810319   0.768812   0.729431   0.692067   \n",
       "96 -0.453304  0.205485 -0.093147   0.042224  -0.019140   0.008676  -0.003933   \n",
       "97  0.276735  0.076582  0.021193   0.005865   0.001623   0.000449   0.000124   \n",
       "98 -0.572097  0.327295 -0.187245   0.107122  -0.061284   0.035061  -0.020058   \n",
       "99 -0.349798  0.122359 -0.042801   0.014972  -0.005237   0.001832  -0.000641   \n",
       "\n",
       "            X8          X9         X10  \n",
       "0     0.041777   -0.028090    0.018887  \n",
       "1    32.976411   51.048010   79.023132  \n",
       "2     2.311337   -2.566529    2.849896  \n",
       "3     0.213642   -0.176156    0.145247  \n",
       "4   128.813194  236.431531  433.960737  \n",
       "..         ...         ...         ...  \n",
       "95    0.656617    0.622983    0.591072  \n",
       "96    0.001783   -0.000808    0.000366  \n",
       "97    0.000034    0.000010    0.000003  \n",
       "98    0.011475   -0.006565    0.003756  \n",
       "99    0.000224   -0.000078    0.000027  \n",
       "\n",
       "[100 rows x 10 columns]"
      ]
     },
     "execution_count": 197,
     "metadata": {},
     "output_type": "execute_result"
    }
   ],
   "source": [
    "X"
   ]
  },
  {
   "cell_type": "code",
   "execution_count": 198,
   "metadata": {},
   "outputs": [
    {
     "name": "stdout",
     "output_type": "stream",
     "text": [
      "1\n",
      "dict_values([('X3',), 0.9446490540242054, 0.9440842484530239, -1.0626887687387931, 1.0145000249713108])\n",
      "2\n",
      "dict_values([('X2', 'X3'), 0.9513559927351009, 0.9503530235131442, -11.979201702919996, 0.9308227075297899])\n",
      "3\n",
      "dict_values([('X2', 'X3', 'X5'), 0.9542639102042668, 0.9528346573981501, -16.143294018743596, 0.912082970037164])\n",
      "4\n",
      "dict_values([('X1', 'X2', 'X3', 'X10'), 0.9544951979365939, 0.9525792062707662, -14.650277725320553, 0.9441883706164229])\n",
      "5\n",
      "dict_values([('X2', 'X3', 'X5', 'X7', 'X9'), 0.9561622231235545, 0.9538304264811903, -16.382470607737584, 0.9449716153429921])\n",
      "6\n",
      "dict_values([('X1', 'X2', 'X3', 'X5', 'X7', 'X9'), 0.9569154477420833, 0.9541357992093145, -16.115612092265362, 0.9634999400457107])\n",
      "7\n",
      "dict_values([('X1', 'X2', 'X3', 'X5', 'X7', 'X9', 'X10'), 0.9571404875006275, 0.9538794376365448, -14.639302177186604, 0.99305070275017])\n",
      "8\n",
      "dict_values([('X1', 'X3', 'X4', 'X5', 'X6', 'X7', 'X8', 'X9'), 0.9575927794104877, 0.9538646721059152, -13.700199283475321, 1.0167895166749292])\n",
      "9\n",
      "dict_values([('X1', 'X3', 'X4', 'X5', 'X6', 'X7', 'X8', 'X9', 'X10'), 0.9576215055878574, 0.9533836561466431, -11.767961119223958, 1.0502959488087493])\n",
      "10\n",
      "dict_values([('X1', 'X2', 'X3', 'X4', 'X5', 'X6', 'X7', 'X8', 'X9', 'X10'), 0.9576217892337469, 0.9528601925184373, -9.768630437099812, 1.0844838841307851])\n"
     ]
    }
   ],
   "source": [
    "#run k models which k as the number of predictors\n",
    "p = X.shape[1]\n",
    "best_subsets = pd.DataFrame(columns=range(5))\n",
    "for i in range(1, p + 1):\n",
    "    print(i)\n",
    "    print(GetBestModel(k=i).best_result_.values())\n",
    "    best_subsets.loc[i] = GetBestModel(k=i).best_result_.values()"
   ]
  },
  {
   "cell_type": "code",
   "execution_count": 199,
   "metadata": {},
   "outputs": [],
   "source": [
    "best_subsets.columns = GetBestModel(k=10).best_result_.keys()"
   ]
  },
  {
   "cell_type": "code",
   "execution_count": 200,
   "metadata": {},
   "outputs": [
    {
     "data": {
      "text/html": [
       "<div>\n",
       "<style scoped>\n",
       "    .dataframe tbody tr th:only-of-type {\n",
       "        vertical-align: middle;\n",
       "    }\n",
       "\n",
       "    .dataframe tbody tr th {\n",
       "        vertical-align: top;\n",
       "    }\n",
       "\n",
       "    .dataframe thead th {\n",
       "        text-align: right;\n",
       "    }\n",
       "</style>\n",
       "<table border=\"1\" class=\"dataframe\">\n",
       "  <thead>\n",
       "    <tr style=\"text-align: right;\">\n",
       "      <th></th>\n",
       "      <th>features</th>\n",
       "      <th>r2</th>\n",
       "      <th>adjusted r2</th>\n",
       "      <th>aic</th>\n",
       "      <th>bic</th>\n",
       "    </tr>\n",
       "  </thead>\n",
       "  <tbody>\n",
       "    <tr>\n",
       "      <th>6</th>\n",
       "      <td>(X1, X2, X3, X5, X7, X9)</td>\n",
       "      <td>0.956915</td>\n",
       "      <td>0.954136</td>\n",
       "      <td>-16.115612</td>\n",
       "      <td>0.963500</td>\n",
       "    </tr>\n",
       "    <tr>\n",
       "      <th>7</th>\n",
       "      <td>(X1, X2, X3, X5, X7, X9, X10)</td>\n",
       "      <td>0.957140</td>\n",
       "      <td>0.953879</td>\n",
       "      <td>-14.639302</td>\n",
       "      <td>0.993051</td>\n",
       "    </tr>\n",
       "    <tr>\n",
       "      <th>8</th>\n",
       "      <td>(X1, X3, X4, X5, X6, X7, X8, X9)</td>\n",
       "      <td>0.957593</td>\n",
       "      <td>0.953865</td>\n",
       "      <td>-13.700199</td>\n",
       "      <td>1.016790</td>\n",
       "    </tr>\n",
       "    <tr>\n",
       "      <th>5</th>\n",
       "      <td>(X2, X3, X5, X7, X9)</td>\n",
       "      <td>0.956162</td>\n",
       "      <td>0.953830</td>\n",
       "      <td>-16.382471</td>\n",
       "      <td>0.944972</td>\n",
       "    </tr>\n",
       "    <tr>\n",
       "      <th>9</th>\n",
       "      <td>(X1, X3, X4, X5, X6, X7, X8, X9, X10)</td>\n",
       "      <td>0.957622</td>\n",
       "      <td>0.953384</td>\n",
       "      <td>-11.767961</td>\n",
       "      <td>1.050296</td>\n",
       "    </tr>\n",
       "    <tr>\n",
       "      <th>10</th>\n",
       "      <td>(X1, X2, X3, X4, X5, X6, X7, X8, X9, X10)</td>\n",
       "      <td>0.957622</td>\n",
       "      <td>0.952860</td>\n",
       "      <td>-9.768630</td>\n",
       "      <td>1.084484</td>\n",
       "    </tr>\n",
       "    <tr>\n",
       "      <th>3</th>\n",
       "      <td>(X2, X3, X5)</td>\n",
       "      <td>0.954264</td>\n",
       "      <td>0.952835</td>\n",
       "      <td>-16.143294</td>\n",
       "      <td>0.912083</td>\n",
       "    </tr>\n",
       "    <tr>\n",
       "      <th>4</th>\n",
       "      <td>(X1, X2, X3, X10)</td>\n",
       "      <td>0.954495</td>\n",
       "      <td>0.952579</td>\n",
       "      <td>-14.650278</td>\n",
       "      <td>0.944188</td>\n",
       "    </tr>\n",
       "    <tr>\n",
       "      <th>2</th>\n",
       "      <td>(X2, X3)</td>\n",
       "      <td>0.951356</td>\n",
       "      <td>0.950353</td>\n",
       "      <td>-11.979202</td>\n",
       "      <td>0.930823</td>\n",
       "    </tr>\n",
       "    <tr>\n",
       "      <th>1</th>\n",
       "      <td>(X3,)</td>\n",
       "      <td>0.944649</td>\n",
       "      <td>0.944084</td>\n",
       "      <td>-1.062689</td>\n",
       "      <td>1.014500</td>\n",
       "    </tr>\n",
       "  </tbody>\n",
       "</table>\n",
       "</div>"
      ],
      "text/plain": [
       "                                     features        r2  adjusted r2  \\\n",
       "6                    (X1, X2, X3, X5, X7, X9)  0.956915     0.954136   \n",
       "7               (X1, X2, X3, X5, X7, X9, X10)  0.957140     0.953879   \n",
       "8            (X1, X3, X4, X5, X6, X7, X8, X9)  0.957593     0.953865   \n",
       "5                        (X2, X3, X5, X7, X9)  0.956162     0.953830   \n",
       "9       (X1, X3, X4, X5, X6, X7, X8, X9, X10)  0.957622     0.953384   \n",
       "10  (X1, X2, X3, X4, X5, X6, X7, X8, X9, X10)  0.957622     0.952860   \n",
       "3                                (X2, X3, X5)  0.954264     0.952835   \n",
       "4                           (X1, X2, X3, X10)  0.954495     0.952579   \n",
       "2                                    (X2, X3)  0.951356     0.950353   \n",
       "1                                       (X3,)  0.944649     0.944084   \n",
       "\n",
       "          aic       bic  \n",
       "6  -16.115612  0.963500  \n",
       "7  -14.639302  0.993051  \n",
       "8  -13.700199  1.016790  \n",
       "5  -16.382471  0.944972  \n",
       "9  -11.767961  1.050296  \n",
       "10  -9.768630  1.084484  \n",
       "3  -16.143294  0.912083  \n",
       "4  -14.650278  0.944188  \n",
       "2  -11.979202  0.930823  \n",
       "1   -1.062689  1.014500  "
      ]
     },
     "execution_count": 200,
     "metadata": {},
     "output_type": "execute_result"
    }
   ],
   "source": [
    "#sort by adjusted r2\n",
    "best_subsets.sort_values(by=['adjusted r2', 'aic', 'bic'], ascending=False)"
   ]
  },
  {
   "cell_type": "code",
   "execution_count": 201,
   "metadata": {},
   "outputs": [
    {
     "data": {
      "text/html": [
       "<div>\n",
       "<style scoped>\n",
       "    .dataframe tbody tr th:only-of-type {\n",
       "        vertical-align: middle;\n",
       "    }\n",
       "\n",
       "    .dataframe tbody tr th {\n",
       "        vertical-align: top;\n",
       "    }\n",
       "\n",
       "    .dataframe thead th {\n",
       "        text-align: right;\n",
       "    }\n",
       "</style>\n",
       "<table border=\"1\" class=\"dataframe\">\n",
       "  <thead>\n",
       "    <tr style=\"text-align: right;\">\n",
       "      <th></th>\n",
       "      <th>features</th>\n",
       "      <th>r2</th>\n",
       "      <th>adjusted r2</th>\n",
       "      <th>aic</th>\n",
       "      <th>bic</th>\n",
       "    </tr>\n",
       "  </thead>\n",
       "  <tbody>\n",
       "    <tr>\n",
       "      <th>5</th>\n",
       "      <td>(X2, X3, X5, X7, X9)</td>\n",
       "      <td>0.956162</td>\n",
       "      <td>0.953830</td>\n",
       "      <td>-16.382471</td>\n",
       "      <td>0.944972</td>\n",
       "    </tr>\n",
       "    <tr>\n",
       "      <th>3</th>\n",
       "      <td>(X2, X3, X5)</td>\n",
       "      <td>0.954264</td>\n",
       "      <td>0.952835</td>\n",
       "      <td>-16.143294</td>\n",
       "      <td>0.912083</td>\n",
       "    </tr>\n",
       "    <tr>\n",
       "      <th>6</th>\n",
       "      <td>(X1, X2, X3, X5, X7, X9)</td>\n",
       "      <td>0.956915</td>\n",
       "      <td>0.954136</td>\n",
       "      <td>-16.115612</td>\n",
       "      <td>0.963500</td>\n",
       "    </tr>\n",
       "    <tr>\n",
       "      <th>4</th>\n",
       "      <td>(X1, X2, X3, X10)</td>\n",
       "      <td>0.954495</td>\n",
       "      <td>0.952579</td>\n",
       "      <td>-14.650278</td>\n",
       "      <td>0.944188</td>\n",
       "    </tr>\n",
       "    <tr>\n",
       "      <th>7</th>\n",
       "      <td>(X1, X2, X3, X5, X7, X9, X10)</td>\n",
       "      <td>0.957140</td>\n",
       "      <td>0.953879</td>\n",
       "      <td>-14.639302</td>\n",
       "      <td>0.993051</td>\n",
       "    </tr>\n",
       "    <tr>\n",
       "      <th>8</th>\n",
       "      <td>(X1, X3, X4, X5, X6, X7, X8, X9)</td>\n",
       "      <td>0.957593</td>\n",
       "      <td>0.953865</td>\n",
       "      <td>-13.700199</td>\n",
       "      <td>1.016790</td>\n",
       "    </tr>\n",
       "    <tr>\n",
       "      <th>2</th>\n",
       "      <td>(X2, X3)</td>\n",
       "      <td>0.951356</td>\n",
       "      <td>0.950353</td>\n",
       "      <td>-11.979202</td>\n",
       "      <td>0.930823</td>\n",
       "    </tr>\n",
       "    <tr>\n",
       "      <th>9</th>\n",
       "      <td>(X1, X3, X4, X5, X6, X7, X8, X9, X10)</td>\n",
       "      <td>0.957622</td>\n",
       "      <td>0.953384</td>\n",
       "      <td>-11.767961</td>\n",
       "      <td>1.050296</td>\n",
       "    </tr>\n",
       "    <tr>\n",
       "      <th>10</th>\n",
       "      <td>(X1, X2, X3, X4, X5, X6, X7, X8, X9, X10)</td>\n",
       "      <td>0.957622</td>\n",
       "      <td>0.952860</td>\n",
       "      <td>-9.768630</td>\n",
       "      <td>1.084484</td>\n",
       "    </tr>\n",
       "    <tr>\n",
       "      <th>1</th>\n",
       "      <td>(X3,)</td>\n",
       "      <td>0.944649</td>\n",
       "      <td>0.944084</td>\n",
       "      <td>-1.062689</td>\n",
       "      <td>1.014500</td>\n",
       "    </tr>\n",
       "  </tbody>\n",
       "</table>\n",
       "</div>"
      ],
      "text/plain": [
       "                                     features        r2  adjusted r2  \\\n",
       "5                        (X2, X3, X5, X7, X9)  0.956162     0.953830   \n",
       "3                                (X2, X3, X5)  0.954264     0.952835   \n",
       "6                    (X1, X2, X3, X5, X7, X9)  0.956915     0.954136   \n",
       "4                           (X1, X2, X3, X10)  0.954495     0.952579   \n",
       "7               (X1, X2, X3, X5, X7, X9, X10)  0.957140     0.953879   \n",
       "8            (X1, X3, X4, X5, X6, X7, X8, X9)  0.957593     0.953865   \n",
       "2                                    (X2, X3)  0.951356     0.950353   \n",
       "9       (X1, X3, X4, X5, X6, X7, X8, X9, X10)  0.957622     0.953384   \n",
       "10  (X1, X2, X3, X4, X5, X6, X7, X8, X9, X10)  0.957622     0.952860   \n",
       "1                                       (X3,)  0.944649     0.944084   \n",
       "\n",
       "          aic       bic  \n",
       "5  -16.382471  0.944972  \n",
       "3  -16.143294  0.912083  \n",
       "6  -16.115612  0.963500  \n",
       "4  -14.650278  0.944188  \n",
       "7  -14.639302  0.993051  \n",
       "8  -13.700199  1.016790  \n",
       "2  -11.979202  0.930823  \n",
       "9  -11.767961  1.050296  \n",
       "10  -9.768630  1.084484  \n",
       "1   -1.062689  1.014500  "
      ]
     },
     "execution_count": 201,
     "metadata": {},
     "output_type": "execute_result"
    }
   ],
   "source": [
    "#sort by aic\n",
    "best_subsets.sort_values(by=['aic'], ascending=True)"
   ]
  },
  {
   "cell_type": "code",
   "execution_count": 202,
   "metadata": {},
   "outputs": [
    {
     "data": {
      "text/html": [
       "<div>\n",
       "<style scoped>\n",
       "    .dataframe tbody tr th:only-of-type {\n",
       "        vertical-align: middle;\n",
       "    }\n",
       "\n",
       "    .dataframe tbody tr th {\n",
       "        vertical-align: top;\n",
       "    }\n",
       "\n",
       "    .dataframe thead th {\n",
       "        text-align: right;\n",
       "    }\n",
       "</style>\n",
       "<table border=\"1\" class=\"dataframe\">\n",
       "  <thead>\n",
       "    <tr style=\"text-align: right;\">\n",
       "      <th></th>\n",
       "      <th>features</th>\n",
       "      <th>r2</th>\n",
       "      <th>adjusted r2</th>\n",
       "      <th>aic</th>\n",
       "      <th>bic</th>\n",
       "    </tr>\n",
       "  </thead>\n",
       "  <tbody>\n",
       "    <tr>\n",
       "      <th>3</th>\n",
       "      <td>(X2, X3, X5)</td>\n",
       "      <td>0.954264</td>\n",
       "      <td>0.952835</td>\n",
       "      <td>-16.143294</td>\n",
       "      <td>0.912083</td>\n",
       "    </tr>\n",
       "    <tr>\n",
       "      <th>2</th>\n",
       "      <td>(X2, X3)</td>\n",
       "      <td>0.951356</td>\n",
       "      <td>0.950353</td>\n",
       "      <td>-11.979202</td>\n",
       "      <td>0.930823</td>\n",
       "    </tr>\n",
       "    <tr>\n",
       "      <th>4</th>\n",
       "      <td>(X1, X2, X3, X10)</td>\n",
       "      <td>0.954495</td>\n",
       "      <td>0.952579</td>\n",
       "      <td>-14.650278</td>\n",
       "      <td>0.944188</td>\n",
       "    </tr>\n",
       "    <tr>\n",
       "      <th>5</th>\n",
       "      <td>(X2, X3, X5, X7, X9)</td>\n",
       "      <td>0.956162</td>\n",
       "      <td>0.953830</td>\n",
       "      <td>-16.382471</td>\n",
       "      <td>0.944972</td>\n",
       "    </tr>\n",
       "    <tr>\n",
       "      <th>6</th>\n",
       "      <td>(X1, X2, X3, X5, X7, X9)</td>\n",
       "      <td>0.956915</td>\n",
       "      <td>0.954136</td>\n",
       "      <td>-16.115612</td>\n",
       "      <td>0.963500</td>\n",
       "    </tr>\n",
       "    <tr>\n",
       "      <th>7</th>\n",
       "      <td>(X1, X2, X3, X5, X7, X9, X10)</td>\n",
       "      <td>0.957140</td>\n",
       "      <td>0.953879</td>\n",
       "      <td>-14.639302</td>\n",
       "      <td>0.993051</td>\n",
       "    </tr>\n",
       "    <tr>\n",
       "      <th>1</th>\n",
       "      <td>(X3,)</td>\n",
       "      <td>0.944649</td>\n",
       "      <td>0.944084</td>\n",
       "      <td>-1.062689</td>\n",
       "      <td>1.014500</td>\n",
       "    </tr>\n",
       "    <tr>\n",
       "      <th>8</th>\n",
       "      <td>(X1, X3, X4, X5, X6, X7, X8, X9)</td>\n",
       "      <td>0.957593</td>\n",
       "      <td>0.953865</td>\n",
       "      <td>-13.700199</td>\n",
       "      <td>1.016790</td>\n",
       "    </tr>\n",
       "    <tr>\n",
       "      <th>9</th>\n",
       "      <td>(X1, X3, X4, X5, X6, X7, X8, X9, X10)</td>\n",
       "      <td>0.957622</td>\n",
       "      <td>0.953384</td>\n",
       "      <td>-11.767961</td>\n",
       "      <td>1.050296</td>\n",
       "    </tr>\n",
       "    <tr>\n",
       "      <th>10</th>\n",
       "      <td>(X1, X2, X3, X4, X5, X6, X7, X8, X9, X10)</td>\n",
       "      <td>0.957622</td>\n",
       "      <td>0.952860</td>\n",
       "      <td>-9.768630</td>\n",
       "      <td>1.084484</td>\n",
       "    </tr>\n",
       "  </tbody>\n",
       "</table>\n",
       "</div>"
      ],
      "text/plain": [
       "                                     features        r2  adjusted r2  \\\n",
       "3                                (X2, X3, X5)  0.954264     0.952835   \n",
       "2                                    (X2, X3)  0.951356     0.950353   \n",
       "4                           (X1, X2, X3, X10)  0.954495     0.952579   \n",
       "5                        (X2, X3, X5, X7, X9)  0.956162     0.953830   \n",
       "6                    (X1, X2, X3, X5, X7, X9)  0.956915     0.954136   \n",
       "7               (X1, X2, X3, X5, X7, X9, X10)  0.957140     0.953879   \n",
       "1                                       (X3,)  0.944649     0.944084   \n",
       "8            (X1, X3, X4, X5, X6, X7, X8, X9)  0.957593     0.953865   \n",
       "9       (X1, X3, X4, X5, X6, X7, X8, X9, X10)  0.957622     0.953384   \n",
       "10  (X1, X2, X3, X4, X5, X6, X7, X8, X9, X10)  0.957622     0.952860   \n",
       "\n",
       "          aic       bic  \n",
       "3  -16.143294  0.912083  \n",
       "2  -11.979202  0.930823  \n",
       "4  -14.650278  0.944188  \n",
       "5  -16.382471  0.944972  \n",
       "6  -16.115612  0.963500  \n",
       "7  -14.639302  0.993051  \n",
       "1   -1.062689  1.014500  \n",
       "8  -13.700199  1.016790  \n",
       "9  -11.767961  1.050296  \n",
       "10  -9.768630  1.084484  "
      ]
     },
     "execution_count": 202,
     "metadata": {},
     "output_type": "execute_result"
    }
   ],
   "source": [
    "best_subsets.sort_values(by=['bic'], ascending=True)"
   ]
  },
  {
   "cell_type": "markdown",
   "metadata": {},
   "source": [
    "9. In this exercise, we will predict the number of applications received\n",
    "using the other variables in the College data set."
   ]
  },
  {
   "cell_type": "code",
   "execution_count": 55,
   "metadata": {},
   "outputs": [],
   "source": [
    "from sklearn.model_selection import train_test_split\n",
    "from sklearn.linear_model import LinearRegression\n",
    "from sklearn.metrics import mean_squared_error"
   ]
  },
  {
   "cell_type": "code",
   "execution_count": 56,
   "metadata": {},
   "outputs": [
    {
     "data": {
      "text/plain": [
       "'C:\\\\Users\\\\lamtr\\\\Introduction to Statistical Learning\\\\6. Linear Model Selection and Regularization'"
      ]
     },
     "execution_count": 56,
     "metadata": {},
     "output_type": "execute_result"
    }
   ],
   "source": [
    "pwd"
   ]
  },
  {
   "cell_type": "code",
   "execution_count": 57,
   "metadata": {},
   "outputs": [],
   "source": [
    "college = pd.read_csv('../datasets/College.csv')"
   ]
  },
  {
   "cell_type": "code",
   "execution_count": 58,
   "metadata": {},
   "outputs": [
    {
     "data": {
      "text/html": [
       "<div>\n",
       "<style scoped>\n",
       "    .dataframe tbody tr th:only-of-type {\n",
       "        vertical-align: middle;\n",
       "    }\n",
       "\n",
       "    .dataframe tbody tr th {\n",
       "        vertical-align: top;\n",
       "    }\n",
       "\n",
       "    .dataframe thead th {\n",
       "        text-align: right;\n",
       "    }\n",
       "</style>\n",
       "<table border=\"1\" class=\"dataframe\">\n",
       "  <thead>\n",
       "    <tr style=\"text-align: right;\">\n",
       "      <th></th>\n",
       "      <th>Private</th>\n",
       "      <th>Apps</th>\n",
       "      <th>Accept</th>\n",
       "      <th>Enroll</th>\n",
       "      <th>Top10perc</th>\n",
       "      <th>Top25perc</th>\n",
       "      <th>F.Undergrad</th>\n",
       "      <th>P.Undergrad</th>\n",
       "      <th>Outstate</th>\n",
       "      <th>Room.Board</th>\n",
       "      <th>Books</th>\n",
       "      <th>Personal</th>\n",
       "      <th>PhD</th>\n",
       "      <th>Terminal</th>\n",
       "      <th>S.F.Ratio</th>\n",
       "      <th>perc.alumni</th>\n",
       "      <th>Expend</th>\n",
       "      <th>Grad.Rate</th>\n",
       "    </tr>\n",
       "  </thead>\n",
       "  <tbody>\n",
       "    <tr>\n",
       "      <th>0</th>\n",
       "      <td>Yes</td>\n",
       "      <td>1660</td>\n",
       "      <td>1232</td>\n",
       "      <td>721</td>\n",
       "      <td>23</td>\n",
       "      <td>52</td>\n",
       "      <td>2885</td>\n",
       "      <td>537</td>\n",
       "      <td>7440</td>\n",
       "      <td>3300</td>\n",
       "      <td>450</td>\n",
       "      <td>2200</td>\n",
       "      <td>70</td>\n",
       "      <td>78</td>\n",
       "      <td>18.1</td>\n",
       "      <td>12</td>\n",
       "      <td>7041</td>\n",
       "      <td>60</td>\n",
       "    </tr>\n",
       "    <tr>\n",
       "      <th>1</th>\n",
       "      <td>Yes</td>\n",
       "      <td>2186</td>\n",
       "      <td>1924</td>\n",
       "      <td>512</td>\n",
       "      <td>16</td>\n",
       "      <td>29</td>\n",
       "      <td>2683</td>\n",
       "      <td>1227</td>\n",
       "      <td>12280</td>\n",
       "      <td>6450</td>\n",
       "      <td>750</td>\n",
       "      <td>1500</td>\n",
       "      <td>29</td>\n",
       "      <td>30</td>\n",
       "      <td>12.2</td>\n",
       "      <td>16</td>\n",
       "      <td>10527</td>\n",
       "      <td>56</td>\n",
       "    </tr>\n",
       "    <tr>\n",
       "      <th>2</th>\n",
       "      <td>Yes</td>\n",
       "      <td>1428</td>\n",
       "      <td>1097</td>\n",
       "      <td>336</td>\n",
       "      <td>22</td>\n",
       "      <td>50</td>\n",
       "      <td>1036</td>\n",
       "      <td>99</td>\n",
       "      <td>11250</td>\n",
       "      <td>3750</td>\n",
       "      <td>400</td>\n",
       "      <td>1165</td>\n",
       "      <td>53</td>\n",
       "      <td>66</td>\n",
       "      <td>12.9</td>\n",
       "      <td>30</td>\n",
       "      <td>8735</td>\n",
       "      <td>54</td>\n",
       "    </tr>\n",
       "    <tr>\n",
       "      <th>3</th>\n",
       "      <td>Yes</td>\n",
       "      <td>417</td>\n",
       "      <td>349</td>\n",
       "      <td>137</td>\n",
       "      <td>60</td>\n",
       "      <td>89</td>\n",
       "      <td>510</td>\n",
       "      <td>63</td>\n",
       "      <td>12960</td>\n",
       "      <td>5450</td>\n",
       "      <td>450</td>\n",
       "      <td>875</td>\n",
       "      <td>92</td>\n",
       "      <td>97</td>\n",
       "      <td>7.7</td>\n",
       "      <td>37</td>\n",
       "      <td>19016</td>\n",
       "      <td>59</td>\n",
       "    </tr>\n",
       "    <tr>\n",
       "      <th>4</th>\n",
       "      <td>Yes</td>\n",
       "      <td>193</td>\n",
       "      <td>146</td>\n",
       "      <td>55</td>\n",
       "      <td>16</td>\n",
       "      <td>44</td>\n",
       "      <td>249</td>\n",
       "      <td>869</td>\n",
       "      <td>7560</td>\n",
       "      <td>4120</td>\n",
       "      <td>800</td>\n",
       "      <td>1500</td>\n",
       "      <td>76</td>\n",
       "      <td>72</td>\n",
       "      <td>11.9</td>\n",
       "      <td>2</td>\n",
       "      <td>10922</td>\n",
       "      <td>15</td>\n",
       "    </tr>\n",
       "  </tbody>\n",
       "</table>\n",
       "</div>"
      ],
      "text/plain": [
       "  Private  Apps  Accept  Enroll  Top10perc  Top25perc  F.Undergrad  \\\n",
       "0     Yes  1660    1232     721         23         52         2885   \n",
       "1     Yes  2186    1924     512         16         29         2683   \n",
       "2     Yes  1428    1097     336         22         50         1036   \n",
       "3     Yes   417     349     137         60         89          510   \n",
       "4     Yes   193     146      55         16         44          249   \n",
       "\n",
       "   P.Undergrad  Outstate  Room.Board  Books  Personal  PhD  Terminal  \\\n",
       "0          537      7440        3300    450      2200   70        78   \n",
       "1         1227     12280        6450    750      1500   29        30   \n",
       "2           99     11250        3750    400      1165   53        66   \n",
       "3           63     12960        5450    450       875   92        97   \n",
       "4          869      7560        4120    800      1500   76        72   \n",
       "\n",
       "   S.F.Ratio  perc.alumni  Expend  Grad.Rate  \n",
       "0       18.1           12    7041         60  \n",
       "1       12.2           16   10527         56  \n",
       "2       12.9           30    8735         54  \n",
       "3        7.7           37   19016         59  \n",
       "4       11.9            2   10922         15  "
      ]
     },
     "execution_count": 58,
     "metadata": {},
     "output_type": "execute_result"
    }
   ],
   "source": [
    "college.head()"
   ]
  },
  {
   "cell_type": "code",
   "execution_count": 59,
   "metadata": {},
   "outputs": [],
   "source": [
    "college[\"Private\"] = college[\"Private\"].replace(to_replace={\"Yes\": 1, \"No\": 0})"
   ]
  },
  {
   "cell_type": "code",
   "execution_count": 60,
   "metadata": {},
   "outputs": [
    {
     "data": {
      "text/html": [
       "<div>\n",
       "<style scoped>\n",
       "    .dataframe tbody tr th:only-of-type {\n",
       "        vertical-align: middle;\n",
       "    }\n",
       "\n",
       "    .dataframe tbody tr th {\n",
       "        vertical-align: top;\n",
       "    }\n",
       "\n",
       "    .dataframe thead th {\n",
       "        text-align: right;\n",
       "    }\n",
       "</style>\n",
       "<table border=\"1\" class=\"dataframe\">\n",
       "  <thead>\n",
       "    <tr style=\"text-align: right;\">\n",
       "      <th></th>\n",
       "      <th>Private</th>\n",
       "      <th>Apps</th>\n",
       "      <th>Accept</th>\n",
       "      <th>Enroll</th>\n",
       "      <th>Top10perc</th>\n",
       "      <th>Top25perc</th>\n",
       "      <th>F.Undergrad</th>\n",
       "      <th>P.Undergrad</th>\n",
       "      <th>Outstate</th>\n",
       "      <th>Room.Board</th>\n",
       "      <th>Books</th>\n",
       "      <th>Personal</th>\n",
       "      <th>PhD</th>\n",
       "      <th>Terminal</th>\n",
       "      <th>S.F.Ratio</th>\n",
       "      <th>perc.alumni</th>\n",
       "      <th>Expend</th>\n",
       "      <th>Grad.Rate</th>\n",
       "    </tr>\n",
       "  </thead>\n",
       "  <tbody>\n",
       "    <tr>\n",
       "      <th>count</th>\n",
       "      <td>777.000000</td>\n",
       "      <td>777.000000</td>\n",
       "      <td>777.000000</td>\n",
       "      <td>777.000000</td>\n",
       "      <td>777.000000</td>\n",
       "      <td>777.000000</td>\n",
       "      <td>777.000000</td>\n",
       "      <td>777.000000</td>\n",
       "      <td>777.000000</td>\n",
       "      <td>777.000000</td>\n",
       "      <td>777.000000</td>\n",
       "      <td>777.000000</td>\n",
       "      <td>777.000000</td>\n",
       "      <td>777.000000</td>\n",
       "      <td>777.000000</td>\n",
       "      <td>777.000000</td>\n",
       "      <td>777.000000</td>\n",
       "      <td>777.00000</td>\n",
       "    </tr>\n",
       "    <tr>\n",
       "      <th>mean</th>\n",
       "      <td>0.727156</td>\n",
       "      <td>3001.638353</td>\n",
       "      <td>2018.804376</td>\n",
       "      <td>779.972973</td>\n",
       "      <td>27.558559</td>\n",
       "      <td>55.796654</td>\n",
       "      <td>3699.907336</td>\n",
       "      <td>855.298584</td>\n",
       "      <td>10440.669241</td>\n",
       "      <td>4357.526384</td>\n",
       "      <td>549.380952</td>\n",
       "      <td>1340.642214</td>\n",
       "      <td>72.660232</td>\n",
       "      <td>79.702703</td>\n",
       "      <td>14.089704</td>\n",
       "      <td>22.743887</td>\n",
       "      <td>9660.171171</td>\n",
       "      <td>65.46332</td>\n",
       "    </tr>\n",
       "    <tr>\n",
       "      <th>std</th>\n",
       "      <td>0.445708</td>\n",
       "      <td>3870.201484</td>\n",
       "      <td>2451.113971</td>\n",
       "      <td>929.176190</td>\n",
       "      <td>17.640364</td>\n",
       "      <td>19.804778</td>\n",
       "      <td>4850.420531</td>\n",
       "      <td>1522.431887</td>\n",
       "      <td>4023.016484</td>\n",
       "      <td>1096.696416</td>\n",
       "      <td>165.105360</td>\n",
       "      <td>677.071454</td>\n",
       "      <td>16.328155</td>\n",
       "      <td>14.722359</td>\n",
       "      <td>3.958349</td>\n",
       "      <td>12.391801</td>\n",
       "      <td>5221.768440</td>\n",
       "      <td>17.17771</td>\n",
       "    </tr>\n",
       "    <tr>\n",
       "      <th>min</th>\n",
       "      <td>0.000000</td>\n",
       "      <td>81.000000</td>\n",
       "      <td>72.000000</td>\n",
       "      <td>35.000000</td>\n",
       "      <td>1.000000</td>\n",
       "      <td>9.000000</td>\n",
       "      <td>139.000000</td>\n",
       "      <td>1.000000</td>\n",
       "      <td>2340.000000</td>\n",
       "      <td>1780.000000</td>\n",
       "      <td>96.000000</td>\n",
       "      <td>250.000000</td>\n",
       "      <td>8.000000</td>\n",
       "      <td>24.000000</td>\n",
       "      <td>2.500000</td>\n",
       "      <td>0.000000</td>\n",
       "      <td>3186.000000</td>\n",
       "      <td>10.00000</td>\n",
       "    </tr>\n",
       "    <tr>\n",
       "      <th>25%</th>\n",
       "      <td>0.000000</td>\n",
       "      <td>776.000000</td>\n",
       "      <td>604.000000</td>\n",
       "      <td>242.000000</td>\n",
       "      <td>15.000000</td>\n",
       "      <td>41.000000</td>\n",
       "      <td>992.000000</td>\n",
       "      <td>95.000000</td>\n",
       "      <td>7320.000000</td>\n",
       "      <td>3597.000000</td>\n",
       "      <td>470.000000</td>\n",
       "      <td>850.000000</td>\n",
       "      <td>62.000000</td>\n",
       "      <td>71.000000</td>\n",
       "      <td>11.500000</td>\n",
       "      <td>13.000000</td>\n",
       "      <td>6751.000000</td>\n",
       "      <td>53.00000</td>\n",
       "    </tr>\n",
       "    <tr>\n",
       "      <th>50%</th>\n",
       "      <td>1.000000</td>\n",
       "      <td>1558.000000</td>\n",
       "      <td>1110.000000</td>\n",
       "      <td>434.000000</td>\n",
       "      <td>23.000000</td>\n",
       "      <td>54.000000</td>\n",
       "      <td>1707.000000</td>\n",
       "      <td>353.000000</td>\n",
       "      <td>9990.000000</td>\n",
       "      <td>4200.000000</td>\n",
       "      <td>500.000000</td>\n",
       "      <td>1200.000000</td>\n",
       "      <td>75.000000</td>\n",
       "      <td>82.000000</td>\n",
       "      <td>13.600000</td>\n",
       "      <td>21.000000</td>\n",
       "      <td>8377.000000</td>\n",
       "      <td>65.00000</td>\n",
       "    </tr>\n",
       "    <tr>\n",
       "      <th>75%</th>\n",
       "      <td>1.000000</td>\n",
       "      <td>3624.000000</td>\n",
       "      <td>2424.000000</td>\n",
       "      <td>902.000000</td>\n",
       "      <td>35.000000</td>\n",
       "      <td>69.000000</td>\n",
       "      <td>4005.000000</td>\n",
       "      <td>967.000000</td>\n",
       "      <td>12925.000000</td>\n",
       "      <td>5050.000000</td>\n",
       "      <td>600.000000</td>\n",
       "      <td>1700.000000</td>\n",
       "      <td>85.000000</td>\n",
       "      <td>92.000000</td>\n",
       "      <td>16.500000</td>\n",
       "      <td>31.000000</td>\n",
       "      <td>10830.000000</td>\n",
       "      <td>78.00000</td>\n",
       "    </tr>\n",
       "    <tr>\n",
       "      <th>max</th>\n",
       "      <td>1.000000</td>\n",
       "      <td>48094.000000</td>\n",
       "      <td>26330.000000</td>\n",
       "      <td>6392.000000</td>\n",
       "      <td>96.000000</td>\n",
       "      <td>100.000000</td>\n",
       "      <td>31643.000000</td>\n",
       "      <td>21836.000000</td>\n",
       "      <td>21700.000000</td>\n",
       "      <td>8124.000000</td>\n",
       "      <td>2340.000000</td>\n",
       "      <td>6800.000000</td>\n",
       "      <td>103.000000</td>\n",
       "      <td>100.000000</td>\n",
       "      <td>39.800000</td>\n",
       "      <td>64.000000</td>\n",
       "      <td>56233.000000</td>\n",
       "      <td>118.00000</td>\n",
       "    </tr>\n",
       "  </tbody>\n",
       "</table>\n",
       "</div>"
      ],
      "text/plain": [
       "          Private          Apps        Accept       Enroll   Top10perc  \\\n",
       "count  777.000000    777.000000    777.000000   777.000000  777.000000   \n",
       "mean     0.727156   3001.638353   2018.804376   779.972973   27.558559   \n",
       "std      0.445708   3870.201484   2451.113971   929.176190   17.640364   \n",
       "min      0.000000     81.000000     72.000000    35.000000    1.000000   \n",
       "25%      0.000000    776.000000    604.000000   242.000000   15.000000   \n",
       "50%      1.000000   1558.000000   1110.000000   434.000000   23.000000   \n",
       "75%      1.000000   3624.000000   2424.000000   902.000000   35.000000   \n",
       "max      1.000000  48094.000000  26330.000000  6392.000000   96.000000   \n",
       "\n",
       "        Top25perc   F.Undergrad   P.Undergrad      Outstate   Room.Board  \\\n",
       "count  777.000000    777.000000    777.000000    777.000000   777.000000   \n",
       "mean    55.796654   3699.907336    855.298584  10440.669241  4357.526384   \n",
       "std     19.804778   4850.420531   1522.431887   4023.016484  1096.696416   \n",
       "min      9.000000    139.000000      1.000000   2340.000000  1780.000000   \n",
       "25%     41.000000    992.000000     95.000000   7320.000000  3597.000000   \n",
       "50%     54.000000   1707.000000    353.000000   9990.000000  4200.000000   \n",
       "75%     69.000000   4005.000000    967.000000  12925.000000  5050.000000   \n",
       "max    100.000000  31643.000000  21836.000000  21700.000000  8124.000000   \n",
       "\n",
       "             Books     Personal         PhD    Terminal   S.F.Ratio  \\\n",
       "count   777.000000   777.000000  777.000000  777.000000  777.000000   \n",
       "mean    549.380952  1340.642214   72.660232   79.702703   14.089704   \n",
       "std     165.105360   677.071454   16.328155   14.722359    3.958349   \n",
       "min      96.000000   250.000000    8.000000   24.000000    2.500000   \n",
       "25%     470.000000   850.000000   62.000000   71.000000   11.500000   \n",
       "50%     500.000000  1200.000000   75.000000   82.000000   13.600000   \n",
       "75%     600.000000  1700.000000   85.000000   92.000000   16.500000   \n",
       "max    2340.000000  6800.000000  103.000000  100.000000   39.800000   \n",
       "\n",
       "       perc.alumni        Expend  Grad.Rate  \n",
       "count   777.000000    777.000000  777.00000  \n",
       "mean     22.743887   9660.171171   65.46332  \n",
       "std      12.391801   5221.768440   17.17771  \n",
       "min       0.000000   3186.000000   10.00000  \n",
       "25%      13.000000   6751.000000   53.00000  \n",
       "50%      21.000000   8377.000000   65.00000  \n",
       "75%      31.000000  10830.000000   78.00000  \n",
       "max      64.000000  56233.000000  118.00000  "
      ]
     },
     "execution_count": 60,
     "metadata": {},
     "output_type": "execute_result"
    }
   ],
   "source": [
    "college.describe()"
   ]
  },
  {
   "cell_type": "code",
   "execution_count": 61,
   "metadata": {},
   "outputs": [
    {
     "name": "stdout",
     "output_type": "stream",
     "text": [
      "<class 'pandas.core.frame.DataFrame'>\n",
      "RangeIndex: 777 entries, 0 to 776\n",
      "Data columns (total 18 columns):\n",
      " #   Column       Non-Null Count  Dtype  \n",
      "---  ------       --------------  -----  \n",
      " 0   Private      777 non-null    int64  \n",
      " 1   Apps         777 non-null    int64  \n",
      " 2   Accept       777 non-null    int64  \n",
      " 3   Enroll       777 non-null    int64  \n",
      " 4   Top10perc    777 non-null    int64  \n",
      " 5   Top25perc    777 non-null    int64  \n",
      " 6   F.Undergrad  777 non-null    int64  \n",
      " 7   P.Undergrad  777 non-null    int64  \n",
      " 8   Outstate     777 non-null    int64  \n",
      " 9   Room.Board   777 non-null    int64  \n",
      " 10  Books        777 non-null    int64  \n",
      " 11  Personal     777 non-null    int64  \n",
      " 12  PhD          777 non-null    int64  \n",
      " 13  Terminal     777 non-null    int64  \n",
      " 14  S.F.Ratio    777 non-null    float64\n",
      " 15  perc.alumni  777 non-null    int64  \n",
      " 16  Expend       777 non-null    int64  \n",
      " 17  Grad.Rate    777 non-null    int64  \n",
      "dtypes: float64(1), int64(17)\n",
      "memory usage: 109.4 KB\n"
     ]
    }
   ],
   "source": [
    "college.info()"
   ]
  },
  {
   "cell_type": "code",
   "execution_count": 62,
   "metadata": {},
   "outputs": [
    {
     "data": {
      "text/plain": [
       "Private          int64\n",
       "Apps             int64\n",
       "Accept           int64\n",
       "Enroll           int64\n",
       "Top10perc        int64\n",
       "Top25perc        int64\n",
       "F.Undergrad      int64\n",
       "P.Undergrad      int64\n",
       "Outstate         int64\n",
       "Room.Board       int64\n",
       "Books            int64\n",
       "Personal         int64\n",
       "PhD              int64\n",
       "Terminal         int64\n",
       "S.F.Ratio      float64\n",
       "perc.alumni      int64\n",
       "Expend           int64\n",
       "Grad.Rate        int64\n",
       "dtype: object"
      ]
     },
     "execution_count": 62,
     "metadata": {},
     "output_type": "execute_result"
    }
   ],
   "source": [
    "college.dtypes"
   ]
  },
  {
   "cell_type": "code",
   "execution_count": 63,
   "metadata": {},
   "outputs": [
    {
     "data": {
      "text/plain": [
       "1    565\n",
       "0    212\n",
       "Name: Private, dtype: int64"
      ]
     },
     "execution_count": 63,
     "metadata": {},
     "output_type": "execute_result"
    }
   ],
   "source": [
    "college[\"Private\"].value_counts()"
   ]
  },
  {
   "cell_type": "markdown",
   "metadata": {},
   "source": [
    "(a) Split the data set into a training set and a test set"
   ]
  },
  {
   "cell_type": "code",
   "execution_count": 152,
   "metadata": {},
   "outputs": [],
   "source": [
    "X = college[college.columns.difference([\"Apps\"])]\n",
    "y = college.loc[:, \"Apps\"]"
   ]
  },
  {
   "cell_type": "code",
   "execution_count": 153,
   "metadata": {},
   "outputs": [],
   "source": [
    "X_train, X_test,  y_train, y_test = train_test_split(X, y)"
   ]
  },
  {
   "cell_type": "markdown",
   "metadata": {},
   "source": [
    "(b) Fit a linear model using least squares on the training set, and\n",
    "report the test error obtained."
   ]
  },
  {
   "cell_type": "code",
   "execution_count": 66,
   "metadata": {},
   "outputs": [],
   "source": [
    "linreg = LinearRegression()"
   ]
  },
  {
   "cell_type": "code",
   "execution_count": 67,
   "metadata": {},
   "outputs": [
    {
     "data": {
      "text/plain": [
       "LinearRegression(copy_X=True, fit_intercept=True, n_jobs=None, normalize=False)"
      ]
     },
     "execution_count": 67,
     "metadata": {},
     "output_type": "execute_result"
    }
   ],
   "source": [
    "linreg.fit(X_train, y_train)"
   ]
  },
  {
   "cell_type": "code",
   "execution_count": 68,
   "metadata": {},
   "outputs": [
    {
     "name": "stdout",
     "output_type": "stream",
     "text": [
      "Training R2: 0.9348921626903748\n",
      "Test R2: 0.896808728897916\n"
     ]
    }
   ],
   "source": [
    "print(\"Training R2:\", linreg.score(X_train, y_train))\n",
    "print(\"Test R2:\", linreg.score(X_test, y_test))"
   ]
  },
  {
   "cell_type": "code",
   "execution_count": 69,
   "metadata": {},
   "outputs": [],
   "source": [
    "def r2_adjusted(y_true, y_pred, m, n):\n",
    "    from sklearn.metrics import r2_score\n",
    "    return 1 - (1 - r2_score(y_true, y_pred) * (m - 1) / (m - n - 1))"
   ]
  },
  {
   "cell_type": "code",
   "execution_count": 70,
   "metadata": {},
   "outputs": [
    {
     "data": {
      "text/plain": [
       "0.9558317763474715"
      ]
     },
     "execution_count": 70,
     "metadata": {},
     "output_type": "execute_result"
    }
   ],
   "source": [
    "m = X.shape[0]\n",
    "n = X.shape[1]\n",
    "training_y_pred = linreg.predict(X_train)\n",
    "r2_adjusted(y_train, training_y_pred, m, n)"
   ]
  },
  {
   "cell_type": "code",
   "execution_count": 71,
   "metadata": {},
   "outputs": [
    {
     "data": {
      "text/plain": [
       "0.963071536388489"
      ]
     },
     "execution_count": 71,
     "metadata": {},
     "output_type": "execute_result"
    }
   ],
   "source": [
    "m = X_train.shape[0]\n",
    "n = X_train.shape[1]\n",
    "training_y_pred = linreg.predict(X_train)\n",
    "r2_adjusted(y_train, training_y_pred, m, n)"
   ]
  },
  {
   "cell_type": "code",
   "execution_count": 72,
   "metadata": {},
   "outputs": [
    {
     "data": {
      "text/plain": [
       "0.9829429005999757"
      ]
     },
     "execution_count": 72,
     "metadata": {},
     "output_type": "execute_result"
    }
   ],
   "source": [
    "m = X_test.shape[0]\n",
    "n = X_test.shape[1]\n",
    "test_y_pred = linreg.predict(X_test)\n",
    "r2_adjusted(y_test, test_y_pred, m, n)"
   ]
  },
  {
   "cell_type": "code",
   "execution_count": 73,
   "metadata": {},
   "outputs": [
    {
     "name": "stdout",
     "output_type": "stream",
     "text": [
      "Training MSE: 1064675.624039492\n"
     ]
    }
   ],
   "source": [
    "print(\"Training MSE:\", mean_squared_error(y_train, training_y_pred))"
   ]
  },
  {
   "cell_type": "code",
   "execution_count": 74,
   "metadata": {},
   "outputs": [
    {
     "name": "stdout",
     "output_type": "stream",
     "text": [
      "Test MSE: 1108041.8239321497\n"
     ]
    }
   ],
   "source": [
    "print(\"Test MSE:\", mean_squared_error(y_test, test_y_pred))"
   ]
  },
  {
   "cell_type": "code",
   "execution_count": 83,
   "metadata": {},
   "outputs": [
    {
     "data": {
      "text/plain": [
       "'Accept + Books + Enroll + Expend + F.Undergrad + Grad.Rate + Outstate + P.Undergrad + Personal + PhD + Private + Room.Board + S.F.Ratio + Terminal + Top10perc + Top25perc + perc.alumni'"
      ]
     },
     "execution_count": 83,
     "metadata": {},
     "output_type": "execute_result"
    }
   ],
   "source": [
    "' + '.join(college.columns.difference([\"Apps\"]))"
   ]
  },
  {
   "cell_type": "code",
   "execution_count": 86,
   "metadata": {},
   "outputs": [
    {
     "data": {
      "text/html": [
       "<div>\n",
       "<style scoped>\n",
       "    .dataframe tbody tr th:only-of-type {\n",
       "        vertical-align: middle;\n",
       "    }\n",
       "\n",
       "    .dataframe tbody tr th {\n",
       "        vertical-align: top;\n",
       "    }\n",
       "\n",
       "    .dataframe thead th {\n",
       "        text-align: right;\n",
       "    }\n",
       "</style>\n",
       "<table border=\"1\" class=\"dataframe\">\n",
       "  <thead>\n",
       "    <tr style=\"text-align: right;\">\n",
       "      <th></th>\n",
       "      <th>Private</th>\n",
       "      <th>Apps</th>\n",
       "      <th>Accept</th>\n",
       "      <th>Enroll</th>\n",
       "      <th>Top10perc</th>\n",
       "      <th>Top25perc</th>\n",
       "      <th>F.Undergrad</th>\n",
       "      <th>P.Undergrad</th>\n",
       "      <th>Outstate</th>\n",
       "      <th>Room.Board</th>\n",
       "      <th>Books</th>\n",
       "      <th>Personal</th>\n",
       "      <th>PhD</th>\n",
       "      <th>Terminal</th>\n",
       "      <th>S.F.Ratio</th>\n",
       "      <th>perc.alumni</th>\n",
       "      <th>Expend</th>\n",
       "      <th>Grad.Rate</th>\n",
       "    </tr>\n",
       "  </thead>\n",
       "  <tbody>\n",
       "    <tr>\n",
       "      <th>0</th>\n",
       "      <td>1</td>\n",
       "      <td>1660</td>\n",
       "      <td>1232</td>\n",
       "      <td>721</td>\n",
       "      <td>23</td>\n",
       "      <td>52</td>\n",
       "      <td>2885</td>\n",
       "      <td>537</td>\n",
       "      <td>7440</td>\n",
       "      <td>3300</td>\n",
       "      <td>450</td>\n",
       "      <td>2200</td>\n",
       "      <td>70</td>\n",
       "      <td>78</td>\n",
       "      <td>18.1</td>\n",
       "      <td>12</td>\n",
       "      <td>7041</td>\n",
       "      <td>60</td>\n",
       "    </tr>\n",
       "    <tr>\n",
       "      <th>1</th>\n",
       "      <td>1</td>\n",
       "      <td>2186</td>\n",
       "      <td>1924</td>\n",
       "      <td>512</td>\n",
       "      <td>16</td>\n",
       "      <td>29</td>\n",
       "      <td>2683</td>\n",
       "      <td>1227</td>\n",
       "      <td>12280</td>\n",
       "      <td>6450</td>\n",
       "      <td>750</td>\n",
       "      <td>1500</td>\n",
       "      <td>29</td>\n",
       "      <td>30</td>\n",
       "      <td>12.2</td>\n",
       "      <td>16</td>\n",
       "      <td>10527</td>\n",
       "      <td>56</td>\n",
       "    </tr>\n",
       "    <tr>\n",
       "      <th>2</th>\n",
       "      <td>1</td>\n",
       "      <td>1428</td>\n",
       "      <td>1097</td>\n",
       "      <td>336</td>\n",
       "      <td>22</td>\n",
       "      <td>50</td>\n",
       "      <td>1036</td>\n",
       "      <td>99</td>\n",
       "      <td>11250</td>\n",
       "      <td>3750</td>\n",
       "      <td>400</td>\n",
       "      <td>1165</td>\n",
       "      <td>53</td>\n",
       "      <td>66</td>\n",
       "      <td>12.9</td>\n",
       "      <td>30</td>\n",
       "      <td>8735</td>\n",
       "      <td>54</td>\n",
       "    </tr>\n",
       "    <tr>\n",
       "      <th>3</th>\n",
       "      <td>1</td>\n",
       "      <td>417</td>\n",
       "      <td>349</td>\n",
       "      <td>137</td>\n",
       "      <td>60</td>\n",
       "      <td>89</td>\n",
       "      <td>510</td>\n",
       "      <td>63</td>\n",
       "      <td>12960</td>\n",
       "      <td>5450</td>\n",
       "      <td>450</td>\n",
       "      <td>875</td>\n",
       "      <td>92</td>\n",
       "      <td>97</td>\n",
       "      <td>7.7</td>\n",
       "      <td>37</td>\n",
       "      <td>19016</td>\n",
       "      <td>59</td>\n",
       "    </tr>\n",
       "    <tr>\n",
       "      <th>4</th>\n",
       "      <td>1</td>\n",
       "      <td>193</td>\n",
       "      <td>146</td>\n",
       "      <td>55</td>\n",
       "      <td>16</td>\n",
       "      <td>44</td>\n",
       "      <td>249</td>\n",
       "      <td>869</td>\n",
       "      <td>7560</td>\n",
       "      <td>4120</td>\n",
       "      <td>800</td>\n",
       "      <td>1500</td>\n",
       "      <td>76</td>\n",
       "      <td>72</td>\n",
       "      <td>11.9</td>\n",
       "      <td>2</td>\n",
       "      <td>10922</td>\n",
       "      <td>15</td>\n",
       "    </tr>\n",
       "    <tr>\n",
       "      <th>...</th>\n",
       "      <td>...</td>\n",
       "      <td>...</td>\n",
       "      <td>...</td>\n",
       "      <td>...</td>\n",
       "      <td>...</td>\n",
       "      <td>...</td>\n",
       "      <td>...</td>\n",
       "      <td>...</td>\n",
       "      <td>...</td>\n",
       "      <td>...</td>\n",
       "      <td>...</td>\n",
       "      <td>...</td>\n",
       "      <td>...</td>\n",
       "      <td>...</td>\n",
       "      <td>...</td>\n",
       "      <td>...</td>\n",
       "      <td>...</td>\n",
       "      <td>...</td>\n",
       "    </tr>\n",
       "    <tr>\n",
       "      <th>772</th>\n",
       "      <td>0</td>\n",
       "      <td>2197</td>\n",
       "      <td>1515</td>\n",
       "      <td>543</td>\n",
       "      <td>4</td>\n",
       "      <td>26</td>\n",
       "      <td>3089</td>\n",
       "      <td>2029</td>\n",
       "      <td>6797</td>\n",
       "      <td>3900</td>\n",
       "      <td>500</td>\n",
       "      <td>1200</td>\n",
       "      <td>60</td>\n",
       "      <td>60</td>\n",
       "      <td>21.0</td>\n",
       "      <td>14</td>\n",
       "      <td>4469</td>\n",
       "      <td>40</td>\n",
       "    </tr>\n",
       "    <tr>\n",
       "      <th>773</th>\n",
       "      <td>1</td>\n",
       "      <td>1959</td>\n",
       "      <td>1805</td>\n",
       "      <td>695</td>\n",
       "      <td>24</td>\n",
       "      <td>47</td>\n",
       "      <td>2849</td>\n",
       "      <td>1107</td>\n",
       "      <td>11520</td>\n",
       "      <td>4960</td>\n",
       "      <td>600</td>\n",
       "      <td>1250</td>\n",
       "      <td>73</td>\n",
       "      <td>75</td>\n",
       "      <td>13.3</td>\n",
       "      <td>31</td>\n",
       "      <td>9189</td>\n",
       "      <td>83</td>\n",
       "    </tr>\n",
       "    <tr>\n",
       "      <th>774</th>\n",
       "      <td>1</td>\n",
       "      <td>2097</td>\n",
       "      <td>1915</td>\n",
       "      <td>695</td>\n",
       "      <td>34</td>\n",
       "      <td>61</td>\n",
       "      <td>2793</td>\n",
       "      <td>166</td>\n",
       "      <td>6900</td>\n",
       "      <td>4200</td>\n",
       "      <td>617</td>\n",
       "      <td>781</td>\n",
       "      <td>67</td>\n",
       "      <td>75</td>\n",
       "      <td>14.4</td>\n",
       "      <td>20</td>\n",
       "      <td>8323</td>\n",
       "      <td>49</td>\n",
       "    </tr>\n",
       "    <tr>\n",
       "      <th>775</th>\n",
       "      <td>1</td>\n",
       "      <td>10705</td>\n",
       "      <td>2453</td>\n",
       "      <td>1317</td>\n",
       "      <td>95</td>\n",
       "      <td>99</td>\n",
       "      <td>5217</td>\n",
       "      <td>83</td>\n",
       "      <td>19840</td>\n",
       "      <td>6510</td>\n",
       "      <td>630</td>\n",
       "      <td>2115</td>\n",
       "      <td>96</td>\n",
       "      <td>96</td>\n",
       "      <td>5.8</td>\n",
       "      <td>49</td>\n",
       "      <td>40386</td>\n",
       "      <td>99</td>\n",
       "    </tr>\n",
       "    <tr>\n",
       "      <th>776</th>\n",
       "      <td>1</td>\n",
       "      <td>2989</td>\n",
       "      <td>1855</td>\n",
       "      <td>691</td>\n",
       "      <td>28</td>\n",
       "      <td>63</td>\n",
       "      <td>2988</td>\n",
       "      <td>1726</td>\n",
       "      <td>4990</td>\n",
       "      <td>3560</td>\n",
       "      <td>500</td>\n",
       "      <td>1250</td>\n",
       "      <td>75</td>\n",
       "      <td>75</td>\n",
       "      <td>18.1</td>\n",
       "      <td>28</td>\n",
       "      <td>4509</td>\n",
       "      <td>99</td>\n",
       "    </tr>\n",
       "  </tbody>\n",
       "</table>\n",
       "<p>777 rows × 18 columns</p>\n",
       "</div>"
      ],
      "text/plain": [
       "     Private   Apps  Accept  Enroll  Top10perc  Top25perc  F.Undergrad  \\\n",
       "0          1   1660    1232     721         23         52         2885   \n",
       "1          1   2186    1924     512         16         29         2683   \n",
       "2          1   1428    1097     336         22         50         1036   \n",
       "3          1    417     349     137         60         89          510   \n",
       "4          1    193     146      55         16         44          249   \n",
       "..       ...    ...     ...     ...        ...        ...          ...   \n",
       "772        0   2197    1515     543          4         26         3089   \n",
       "773        1   1959    1805     695         24         47         2849   \n",
       "774        1   2097    1915     695         34         61         2793   \n",
       "775        1  10705    2453    1317         95         99         5217   \n",
       "776        1   2989    1855     691         28         63         2988   \n",
       "\n",
       "     P.Undergrad  Outstate  Room.Board  Books  Personal  PhD  Terminal  \\\n",
       "0            537      7440        3300    450      2200   70        78   \n",
       "1           1227     12280        6450    750      1500   29        30   \n",
       "2             99     11250        3750    400      1165   53        66   \n",
       "3             63     12960        5450    450       875   92        97   \n",
       "4            869      7560        4120    800      1500   76        72   \n",
       "..           ...       ...         ...    ...       ...  ...       ...   \n",
       "772         2029      6797        3900    500      1200   60        60   \n",
       "773         1107     11520        4960    600      1250   73        75   \n",
       "774          166      6900        4200    617       781   67        75   \n",
       "775           83     19840        6510    630      2115   96        96   \n",
       "776         1726      4990        3560    500      1250   75        75   \n",
       "\n",
       "     S.F.Ratio  perc.alumni  Expend  Grad.Rate  \n",
       "0         18.1           12    7041         60  \n",
       "1         12.2           16   10527         56  \n",
       "2         12.9           30    8735         54  \n",
       "3          7.7           37   19016         59  \n",
       "4         11.9            2   10922         15  \n",
       "..         ...          ...     ...        ...  \n",
       "772       21.0           14    4469         40  \n",
       "773       13.3           31    9189         83  \n",
       "774       14.4           20    8323         49  \n",
       "775        5.8           49   40386         99  \n",
       "776       18.1           28    4509         99  \n",
       "\n",
       "[777 rows x 18 columns]"
      ]
     },
     "execution_count": 86,
     "metadata": {},
     "output_type": "execute_result"
    }
   ],
   "source": [
    "college"
   ]
  },
  {
   "cell_type": "code",
   "execution_count": 104,
   "metadata": {},
   "outputs": [],
   "source": [
    "import statsmodels.formula.api as smf\n",
    "import statsmodels.api as sm\n"
   ]
  },
  {
   "cell_type": "code",
   "execution_count": 139,
   "metadata": {},
   "outputs": [],
   "source": [
    "X = college[college.columns.difference([\"Apps\", \"Books\", \"perc.alumni\", \"Personal\", \"S.F.Ratio\", \"P.Undergrad\", \"Terminal\"])]\n",
    "y = college.loc[:, \"Apps\"]"
   ]
  },
  {
   "cell_type": "code",
   "execution_count": 140,
   "metadata": {},
   "outputs": [],
   "source": [
    "X_train, X_test,  y_train, y_test = train_test_split(X, y)"
   ]
  },
  {
   "cell_type": "code",
   "execution_count": 141,
   "metadata": {},
   "outputs": [],
   "source": [
    "est = sm.OLS(y, X).fit()"
   ]
  },
  {
   "cell_type": "code",
   "execution_count": 148,
   "metadata": {},
   "outputs": [
    {
     "data": {
      "text/plain": [
       "0.955549392727859"
      ]
     },
     "execution_count": 148,
     "metadata": {},
     "output_type": "execute_result"
    }
   ],
   "source": [
    "est.rsquared"
   ]
  },
  {
   "cell_type": "code",
   "execution_count": 142,
   "metadata": {},
   "outputs": [
    {
     "data": {
      "text/plain": [
       "0.9549110680803479"
      ]
     },
     "execution_count": 142,
     "metadata": {},
     "output_type": "execute_result"
    }
   ],
   "source": [
    "est.rsquared_adj"
   ]
  },
  {
   "cell_type": "code",
   "execution_count": 143,
   "metadata": {},
   "outputs": [
    {
     "data": {
      "text/plain": [
       "23969015.033462033"
      ]
     },
     "execution_count": 143,
     "metadata": {},
     "output_type": "execute_result"
    }
   ],
   "source": [
    "est.mse_total"
   ]
  },
  {
   "cell_type": "code",
   "execution_count": 144,
   "metadata": {},
   "outputs": [
    {
     "data": {
      "text/plain": [
       "1617825447.1944487"
      ]
     },
     "execution_count": 144,
     "metadata": {},
     "output_type": "execute_result"
    }
   ],
   "source": [
    "est.mse_model"
   ]
  },
  {
   "cell_type": "code",
   "execution_count": 145,
   "metadata": {
    "scrolled": true
   },
   "outputs": [
    {
     "data": {
      "text/html": [
       "<table class=\"simpletable\">\n",
       "<tr>\n",
       "       <td></td>          <th>coef</th>     <th>std err</th>      <th>t</th>      <th>P>|t|</th>  <th>[0.025</th>    <th>0.975]</th>  \n",
       "</tr>\n",
       "<tr>\n",
       "  <th>Accept</th>      <td>    1.5883</td> <td>    0.039</td> <td>   40.886</td> <td> 0.000</td> <td>    1.512</td> <td>    1.665</td>\n",
       "</tr>\n",
       "<tr>\n",
       "  <th>Enroll</th>      <td>   -0.9110</td> <td>    0.183</td> <td>   -4.972</td> <td> 0.000</td> <td>   -1.271</td> <td>   -0.551</td>\n",
       "</tr>\n",
       "<tr>\n",
       "  <th>Expend</th>      <td>    0.0728</td> <td>    0.011</td> <td>    6.405</td> <td> 0.000</td> <td>    0.050</td> <td>    0.095</td>\n",
       "</tr>\n",
       "<tr>\n",
       "  <th>F.Undergrad</th> <td>    0.0710</td> <td>    0.031</td> <td>    2.273</td> <td> 0.023</td> <td>    0.010</td> <td>    0.132</td>\n",
       "</tr>\n",
       "<tr>\n",
       "  <th>Grad.Rate</th>   <td>    7.5259</td> <td>    2.671</td> <td>    2.818</td> <td> 0.005</td> <td>    2.283</td> <td>   12.769</td>\n",
       "</tr>\n",
       "<tr>\n",
       "  <th>Outstate</th>    <td>   -0.0888</td> <td>    0.018</td> <td>   -4.951</td> <td> 0.000</td> <td>   -0.124</td> <td>   -0.054</td>\n",
       "</tr>\n",
       "<tr>\n",
       "  <th>PhD</th>         <td>  -11.1783</td> <td>    2.666</td> <td>   -4.192</td> <td> 0.000</td> <td>  -16.413</td> <td>   -5.944</td>\n",
       "</tr>\n",
       "<tr>\n",
       "  <th>Private</th>     <td> -541.5673</td> <td>  128.101</td> <td>   -4.228</td> <td> 0.000</td> <td> -793.038</td> <td> -290.097</td>\n",
       "</tr>\n",
       "<tr>\n",
       "  <th>Room.Board</th>  <td>    0.1474</td> <td>    0.044</td> <td>    3.353</td> <td> 0.001</td> <td>    0.061</td> <td>    0.234</td>\n",
       "</tr>\n",
       "<tr>\n",
       "  <th>Top10perc</th>   <td>   50.9191</td> <td>    4.942</td> <td>   10.302</td> <td> 0.000</td> <td>   41.217</td> <td>   60.622</td>\n",
       "</tr>\n",
       "<tr>\n",
       "  <th>Top25perc</th>   <td>  -15.4602</td> <td>    4.170</td> <td>   -3.707</td> <td> 0.000</td> <td>  -23.647</td> <td>   -7.273</td>\n",
       "</tr>\n",
       "</table>"
      ],
      "text/plain": [
       "<class 'statsmodels.iolib.table.SimpleTable'>"
      ]
     },
     "execution_count": 145,
     "metadata": {},
     "output_type": "execute_result"
    }
   ],
   "source": [
    "\n",
    "est.summary().tables[1]"
   ]
  },
  {
   "cell_type": "code",
   "execution_count": 160,
   "metadata": {},
   "outputs": [
    {
     "data": {
      "text/plain": [
       "Lasso(alpha=1.0, copy_X=True, fit_intercept=True, max_iter=1000,\n",
       "      normalize=False, positive=False, precompute=False, random_state=None,\n",
       "      selection='cyclic', tol=0.0001, warm_start=False)"
      ]
     },
     "execution_count": 160,
     "metadata": {},
     "output_type": "execute_result"
    }
   ],
   "source": [
    "from sklearn.linear_model import Lasso, LassoCV\n",
    "from sklearn.model_selection import RepeatedKFold\n",
    "lasso = Lasso()\n",
    "lasso.fit(X_train, y_train)"
   ]
  },
  {
   "cell_type": "code",
   "execution_count": 155,
   "metadata": {},
   "outputs": [
    {
     "data": {
      "text/plain": [
       "0.9410321117488498"
      ]
     },
     "execution_count": 155,
     "metadata": {},
     "output_type": "execute_result"
    }
   ],
   "source": [
    "lasso.score(X_train, y_train)"
   ]
  },
  {
   "cell_type": "code",
   "execution_count": 156,
   "metadata": {},
   "outputs": [
    {
     "data": {
      "text/plain": [
       "0.8971701609874931"
      ]
     },
     "execution_count": 156,
     "metadata": {},
     "output_type": "execute_result"
    }
   ],
   "source": [
    "lasso.score(X_test, y_test)"
   ]
  },
  {
   "cell_type": "code",
   "execution_count": 157,
   "metadata": {},
   "outputs": [
    {
     "data": {
      "text/plain": [
       "732465.9852029647"
      ]
     },
     "execution_count": 157,
     "metadata": {},
     "output_type": "execute_result"
    }
   ],
   "source": [
    "mean_squared_error(y_train, lasso.predict(X_train))"
   ]
  },
  {
   "cell_type": "code",
   "execution_count": 158,
   "metadata": {},
   "outputs": [
    {
     "data": {
      "text/plain": [
       "2317046.5690483893"
      ]
     },
     "execution_count": 158,
     "metadata": {},
     "output_type": "execute_result"
    }
   ],
   "source": [
    "mean_squared_error(y_test, lasso.predict(X_test))"
   ]
  },
  {
   "cell_type": "code",
   "execution_count": 162,
   "metadata": {},
   "outputs": [
    {
     "data": {
      "text/plain": [
       "array([1.e-03, 1.e-02, 1.e-01, 1.e+00, 1.e+01, 1.e+02, 1.e+03])"
      ]
     },
     "execution_count": 162,
     "metadata": {},
     "output_type": "execute_result"
    }
   ],
   "source": [
    "np.logspace(-3, 3, num=len(np.arange(-3, 4)))"
   ]
  },
  {
   "cell_type": "code",
   "execution_count": 172,
   "metadata": {},
   "outputs": [
    {
     "data": {
      "text/plain": [
       "array([[1232.,  450.,  721., ...,   23.,   52.,   12.],\n",
       "       [1924.,  750.,  512., ...,   16.,   29.,   16.],\n",
       "       [1097.,  400.,  336., ...,   22.,   50.,   30.],\n",
       "       ...,\n",
       "       [1915.,  617.,  695., ...,   34.,   61.,   20.],\n",
       "       [2453.,  630., 1317., ...,   95.,   99.,   49.],\n",
       "       [1855.,  500.,  691., ...,   28.,   63.,   28.]])"
      ]
     },
     "execution_count": 172,
     "metadata": {},
     "output_type": "execute_result"
    }
   ],
   "source": [
    "X.values"
   ]
  },
  {
   "cell_type": "code",
   "execution_count": 177,
   "metadata": {},
   "outputs": [
    {
     "data": {
      "text/plain": [
       "array([[1232.,  450.,  721., ...,   23.,   52.,   12.],\n",
       "       [1924.,  750.,  512., ...,   16.,   29.,   16.],\n",
       "       [1097.,  400.,  336., ...,   22.,   50.,   30.],\n",
       "       ...,\n",
       "       [1915.,  617.,  695., ...,   34.,   61.,   20.],\n",
       "       [2453.,  630., 1317., ...,   95.,   99.,   49.],\n",
       "       [1855.,  500.,  691., ...,   28.,   63.,   28.]])"
      ]
     },
     "execution_count": 177,
     "metadata": {},
     "output_type": "execute_result"
    }
   ],
   "source": [
    "X.values"
   ]
  },
  {
   "cell_type": "code",
   "execution_count": 218,
   "metadata": {},
   "outputs": [
    {
     "name": "stderr",
     "output_type": "stream",
     "text": [
      "C:\\Users\\lamtr\\anaconda3\\envs\\clone_3\\lib\\site-packages\\sklearn\\linear_model\\_coordinate_descent.py:1088: DataConversionWarning: A column-vector y was passed when a 1d array was expected. Please change the shape of y to (n_samples, ), for example using ravel().\n",
      "  y = column_or_1d(y, warn=True)\n"
     ]
    },
    {
     "data": {
      "text/plain": [
       "LassoCV(alphas=array([1.e-03, 1.e-02, 1.e-01, 1.e+00, 1.e+01, 1.e+02, 1.e+03]),\n",
       "        copy_X=True, cv=RepeatedKFold(n_repeats=3, n_splits=10, random_state=1),\n",
       "        eps=0.001, fit_intercept=True, max_iter=1000, n_alphas=100, n_jobs=None,\n",
       "        normalize=False, positive=False, precompute='auto', random_state=None,\n",
       "        selection='cyclic', tol=0.0001, verbose=False)"
      ]
     },
     "execution_count": 218,
     "metadata": {},
     "output_type": "execute_result"
    }
   ],
   "source": [
    "cv = RepeatedKFold(n_splits=10, n_repeats=3, random_state=1)\n",
    "lassoCV = LassoCV(alphas=np.logspace(-3, 3, num=len(np.arange(-3, 4))), cv=cv)\n",
    "lassoCV.fit(X.values, y.values.reshape(-1, 1))"
   ]
  },
  {
   "cell_type": "code",
   "execution_count": 219,
   "metadata": {},
   "outputs": [
    {
     "data": {
      "text/plain": [
       "0.9370154682940025"
      ]
     },
     "execution_count": 219,
     "metadata": {},
     "output_type": "execute_result"
    }
   ],
   "source": [
    "lassoCV.score(X_train, y_train)"
   ]
  },
  {
   "cell_type": "code",
   "execution_count": 220,
   "metadata": {},
   "outputs": [
    {
     "data": {
      "text/plain": [
       "array([1322554.01811157, 1294350.22357601, 1286128.75695257,\n",
       "       1286433.48598025, 1286595.29596093, 1286612.78776948,\n",
       "       1286614.55009407])"
      ]
     },
     "execution_count": 220,
     "metadata": {},
     "output_type": "execute_result"
    }
   ],
   "source": [
    "lassoCV.mse_path_.mean(axis=1)"
   ]
  },
  {
   "cell_type": "code",
   "execution_count": 221,
   "metadata": {},
   "outputs": [
    {
     "data": {
      "text/plain": [
       "array([1.e+03, 1.e+02, 1.e+01, 1.e+00, 1.e-01, 1.e-02, 1.e-03])"
      ]
     },
     "execution_count": 221,
     "metadata": {},
     "output_type": "execute_result"
    }
   ],
   "source": [
    "lassoCV.alphas_"
   ]
  },
  {
   "cell_type": "code",
   "execution_count": 222,
   "metadata": {},
   "outputs": [
    {
     "data": {
      "text/plain": [
       "10.0"
      ]
     },
     "execution_count": 222,
     "metadata": {},
     "output_type": "execute_result"
    }
   ],
   "source": [
    "lassoCV.alpha_"
   ]
  },
  {
   "cell_type": "code",
   "execution_count": 223,
   "metadata": {},
   "outputs": [
    {
     "data": {
      "text/plain": [
       "array([1322554.01811157, 1294350.22357601, 1286128.75695257,\n",
       "       1286433.48598025, 1286595.29596093, 1286612.78776948,\n",
       "       1286614.55009407])"
      ]
     },
     "execution_count": 223,
     "metadata": {},
     "output_type": "execute_result"
    }
   ],
   "source": [
    "lassoCV.mse_path_.mean(axis=1)"
   ]
  },
  {
   "cell_type": "code",
   "execution_count": null,
   "metadata": {},
   "outputs": [],
   "source": []
  }
 ],
 "metadata": {
  "kernelspec": {
   "display_name": "Python 3",
   "language": "python",
   "name": "python3"
  },
  "language_info": {
   "codemirror_mode": {
    "name": "ipython",
    "version": 3
   },
   "file_extension": ".py",
   "mimetype": "text/x-python",
   "name": "python",
   "nbconvert_exporter": "python",
   "pygments_lexer": "ipython3",
   "version": "3.6.10"
  },
  "varInspector": {
   "cols": {
    "lenName": 16,
    "lenType": 16,
    "lenVar": 40
   },
   "kernels_config": {
    "python": {
     "delete_cmd_postfix": "",
     "delete_cmd_prefix": "del ",
     "library": "var_list.py",
     "varRefreshCmd": "print(var_dic_list())"
    },
    "r": {
     "delete_cmd_postfix": ") ",
     "delete_cmd_prefix": "rm(",
     "library": "var_list.r",
     "varRefreshCmd": "cat(var_dic_list()) "
    }
   },
   "types_to_exclude": [
    "module",
    "function",
    "builtin_function_or_method",
    "instance",
    "_Feature"
   ],
   "window_display": false
  }
 },
 "nbformat": 4,
 "nbformat_minor": 4
}
